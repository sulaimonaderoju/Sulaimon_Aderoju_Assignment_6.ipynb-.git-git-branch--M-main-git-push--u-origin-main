{
  "cells": [
    {
      "cell_type": "markdown",
      "metadata": {
        "id": "gfLCqNOz5sZu"
      },
      "source": [
        "### Emotion Classification for Tweets"
      ]
    },
    {
      "cell_type": "code",
      "execution_count": 1,
      "metadata": {
        "colab": {
          "base_uri": "https://localhost:8080/"
        },
        "id": "28P-ScxU6W7L",
        "outputId": "a0352350-ee98-44c1-a6b6-397bc3ec18bb"
      },
      "outputs": [
        {
          "output_type": "stream",
          "name": "stdout",
          "text": [
            "Collecting emoji\n",
            "  Downloading emoji-2.14.0-py3-none-any.whl.metadata (5.7 kB)\n",
            "Downloading emoji-2.14.0-py3-none-any.whl (586 kB)\n",
            "\u001b[2K   \u001b[90m━━━━━━━━━━━━━━━━━━━━━━━━━━━━━━━━━━━━━━━━\u001b[0m \u001b[32m586.9/586.9 kB\u001b[0m \u001b[31m3.4 MB/s\u001b[0m eta \u001b[36m0:00:00\u001b[0m\n",
            "\u001b[?25hInstalling collected packages: emoji\n",
            "Successfully installed emoji-2.14.0\n"
          ]
        }
      ],
      "source": [
        "# Installing the Emoji\n",
        "!pip install emoji"
      ]
    },
    {
      "cell_type": "markdown",
      "metadata": {
        "id": "G-QvJhS060Yk"
      },
      "source": [
        "### Load Libraries"
      ]
    },
    {
      "cell_type": "code",
      "execution_count": 1,
      "metadata": {
        "id": "H-lSwiVo4SdI"
      },
      "outputs": [],
      "source": [
        "import pandas as pd\n",
        "import numpy as np\n",
        "import matplotlib.pyplot as plt\n",
        "import seaborn as sns\n",
        "import emoji"
      ]
    },
    {
      "cell_type": "code",
      "execution_count": 2,
      "metadata": {
        "id": "ntp_Hl6n6QPb"
      },
      "outputs": [],
      "source": [
        "# File paths\n",
        "test_path = '/content/emotion-labels-test.csv'\n",
        "train_path = '/content/emotion-labels-train.csv'\n",
        "validatiom_path = '/content/emotion-labels-val.csv'"
      ]
    },
    {
      "cell_type": "code",
      "execution_count": 3,
      "metadata": {
        "id": "vNp_IAv47V76"
      },
      "outputs": [],
      "source": [
        "# loading the datasets\n",
        "test_df = pd.read_csv(test_path)\n",
        "train_df = pd.read_csv(train_path)\n",
        "validation_df = pd.read_csv(validatiom_path)"
      ]
    },
    {
      "cell_type": "code",
      "execution_count": 4,
      "metadata": {
        "colab": {
          "base_uri": "https://localhost:8080/"
        },
        "id": "3qIBXiwR7fjE",
        "outputId": "8d7262fe-159c-45cb-a5eb-8809328d145a"
      },
      "outputs": [
        {
          "output_type": "stream",
          "name": "stdout",
          "text": [
            "Test Dataset:\n",
            "<class 'pandas.core.frame.DataFrame'>\n",
            "RangeIndex: 3142 entries, 0 to 3141\n",
            "Data columns (total 2 columns):\n",
            " #   Column  Non-Null Count  Dtype \n",
            "---  ------  --------------  ----- \n",
            " 0   text    3142 non-null   object\n",
            " 1   label   3142 non-null   object\n",
            "dtypes: object(2)\n",
            "memory usage: 49.2+ KB\n",
            "None\n",
            "\n",
            "Train Dataset:\n",
            "<class 'pandas.core.frame.DataFrame'>\n",
            "RangeIndex: 3613 entries, 0 to 3612\n",
            "Data columns (total 2 columns):\n",
            " #   Column  Non-Null Count  Dtype \n",
            "---  ------  --------------  ----- \n",
            " 0   text    3613 non-null   object\n",
            " 1   label   3613 non-null   object\n",
            "dtypes: object(2)\n",
            "memory usage: 56.6+ KB\n",
            "None\n",
            "\n",
            "Validation Dataset:\n",
            "<class 'pandas.core.frame.DataFrame'>\n",
            "RangeIndex: 347 entries, 0 to 346\n",
            "Data columns (total 2 columns):\n",
            " #   Column  Non-Null Count  Dtype \n",
            "---  ------  --------------  ----- \n",
            " 0   text    347 non-null    object\n",
            " 1   label   347 non-null    object\n",
            "dtypes: object(2)\n",
            "memory usage: 5.5+ KB\n",
            "None\n"
          ]
        }
      ],
      "source": [
        "# Display basic information about the datasets\n",
        "\n",
        "print(\"Test Dataset:\")\n",
        "print(test_df.info())\n",
        "\n",
        "print(\"\\nTrain Dataset:\")\n",
        "print(train_df.info())\n",
        "\n",
        "print(\"\\nValidation Dataset:\")\n",
        "print(validation_df.info())"
      ]
    },
    {
      "cell_type": "code",
      "execution_count": 5,
      "metadata": {
        "colab": {
          "base_uri": "https://localhost:8080/"
        },
        "id": "Nx96kSa8A2au",
        "outputId": "94117ad7-f50c-4549-f9fc-ab5c38d2b6b5"
      },
      "outputs": [
        {
          "output_type": "stream",
          "name": "stdout",
          "text": [
            "Testing Data Preview:\n",
            "                                                text label\n",
            "0  You must be knowing #blithe means (adj.)  Happ...   joy\n",
            "1  Old saying 'A #smile shared is one gained for ...   joy\n",
            "2  Bridget Jones' Baby was bloody hilarious 😅 #Br...   joy\n",
            "3  @Elaminova sparkling water makes your life spa...   joy\n",
            "4  I'm tired of everybody telling me to chill out...   joy \n",
            "\n",
            "Training Data Preview:\n",
            "                                                text label\n",
            "0  Just got back from seeing @GaryDelaney in Burs...   joy\n",
            "1  Oh dear an evening of absolute hilarity I don'...   joy\n",
            "2  Been waiting all week for this game ❤️❤️❤️ #ch...   joy\n",
            "3  @gardiner_love : Thank you so much, Gloria! Yo...   joy\n",
            "4  I feel so blessed to work with the family that...   joy \n",
            "\n",
            "Validation Data Preview:\n",
            "                                                text label\n",
            "0  @theclobra lol I thought maybe, couldn't decid...   joy\n",
            "1  Nawaz Sharif is getting more funnier than @kap...   joy\n",
            "2  Nawaz Sharif is getting more funnier than @kap...   joy\n",
            "3  @tomderivan73 😁...I'll just people watch and e...   joy\n",
            "4  I love my family so much #lucky #grateful #sma...   joy \n",
            "\n"
          ]
        }
      ],
      "source": [
        "# Preview the dataset\n",
        "\n",
        "print(\"Testing Data Preview:\")\n",
        "print(test_df.head(), \"\\n\")\n",
        "\n",
        "print(\"Training Data Preview:\")\n",
        "print(train_df.head(), \"\\n\")\n",
        "\n",
        "print(\"Validation Data Preview:\")\n",
        "print(validation_df.head(), \"\\n\")"
      ]
    },
    {
      "cell_type": "code",
      "execution_count": 6,
      "metadata": {
        "colab": {
          "base_uri": "https://localhost:8080/"
        },
        "id": "FLQChvrwBHGD",
        "outputId": "021b37c0-917a-4761-b338-d6e86e544930"
      },
      "outputs": [
        {
          "output_type": "stream",
          "name": "stdout",
          "text": [
            "Testing Data Info:\n",
            "<class 'pandas.core.frame.DataFrame'>\n",
            "RangeIndex: 3142 entries, 0 to 3141\n",
            "Data columns (total 2 columns):\n",
            " #   Column  Non-Null Count  Dtype \n",
            "---  ------  --------------  ----- \n",
            " 0   text    3142 non-null   object\n",
            " 1   label   3142 non-null   object\n",
            "dtypes: object(2)\n",
            "memory usage: 49.2+ KB\n",
            "None \n",
            "\n",
            "Training Data Info:\n",
            "<class 'pandas.core.frame.DataFrame'>\n",
            "RangeIndex: 3613 entries, 0 to 3612\n",
            "Data columns (total 2 columns):\n",
            " #   Column  Non-Null Count  Dtype \n",
            "---  ------  --------------  ----- \n",
            " 0   text    3613 non-null   object\n",
            " 1   label   3613 non-null   object\n",
            "dtypes: object(2)\n",
            "memory usage: 56.6+ KB\n",
            "None \n",
            "\n",
            "Validation Data Info:\n",
            "<class 'pandas.core.frame.DataFrame'>\n",
            "RangeIndex: 347 entries, 0 to 346\n",
            "Data columns (total 2 columns):\n",
            " #   Column  Non-Null Count  Dtype \n",
            "---  ------  --------------  ----- \n",
            " 0   text    347 non-null    object\n",
            " 1   label   347 non-null    object\n",
            "dtypes: object(2)\n",
            "memory usage: 5.5+ KB\n",
            "None \n",
            "\n"
          ]
        }
      ],
      "source": [
        "# Checking the data type and missing values for all datasets\n",
        "\n",
        "print(\"Testing Data Info:\")\n",
        "print(test_df.info(), \"\\n\")\n",
        "\n",
        "print(\"Training Data Info:\")\n",
        "print(train_df.info(), \"\\n\")\n",
        "\n",
        "print(\"Validation Data Info:\")\n",
        "print(validation_df.info(), \"\\n\")"
      ]
    },
    {
      "cell_type": "code",
      "execution_count": 7,
      "metadata": {
        "colab": {
          "base_uri": "https://localhost:8080/"
        },
        "id": "pXev13NoB_r8",
        "outputId": "ba2f767a-33a2-499c-cbec-7e6536fb176d"
      },
      "outputs": [
        {
          "output_type": "stream",
          "name": "stdout",
          "text": [
            "Testing Data Missing Values:\n",
            "text     0\n",
            "label    0\n",
            "dtype: int64 \n",
            "\n",
            "Training Data Missing Values:\n",
            "text     0\n",
            "label    0\n",
            "dtype: int64 \n",
            "\n",
            "Validation Data Missing Values:\n",
            "text     0\n",
            "label    0\n",
            "dtype: int64 \n",
            "\n"
          ]
        }
      ],
      "source": [
        "# Summarizing the missing values\n",
        "\n",
        "print(\"Testing Data Missing Values:\")\n",
        "print(test_df.isnull().sum(), \"\\n\")\n",
        "\n",
        "print(\"Training Data Missing Values:\")\n",
        "print(train_df.isnull().sum(), \"\\n\")\n",
        "\n",
        "print(\"Validation Data Missing Values:\")\n",
        "print(validation_df.isnull().sum(), \"\\n\")"
      ]
    },
    {
      "cell_type": "code",
      "execution_count": 9,
      "metadata": {
        "colab": {
          "base_uri": "https://localhost:8080/"
        },
        "id": "JrAfcZsCCOS-",
        "outputId": "ec95ace3-a1ab-46f0-93e4-fdb7726cce87"
      },
      "outputs": [
        {
          "output_type": "stream",
          "name": "stdout",
          "text": [
            "Testing Data Duplicate Rows:\n",
            "0 \n",
            "\n",
            "Training Data Duplicate Rows:\n",
            "0 \n",
            "\n",
            "Validation Data Duplicate Rows:\n",
            "0 \n",
            "\n"
          ]
        }
      ],
      "source": [
        "# Checking for duplicate rows\n",
        "\n",
        "print(\"Testing Data Duplicate Rows:\")\n",
        "print(test_df.duplicated().sum(), \"\\n\")\n",
        "\n",
        "print(\"Training Data Duplicate Rows:\")\n",
        "print(train_df.duplicated().sum(), \"\\n\")\n",
        "\n",
        "print(\"Validation Data Duplicate Rows:\")\n",
        "print(validation_df.duplicated().sum(), \"\\n\")"
      ]
    },
    {
      "cell_type": "code",
      "execution_count": 10,
      "metadata": {
        "colab": {
          "base_uri": "https://localhost:8080/"
        },
        "id": "Yq4259v9CyzE",
        "outputId": "ba7f443f-3043-463a-95fe-cd91f9d3a614"
      },
      "outputs": [
        {
          "output_type": "stream",
          "name": "stderr",
          "text": [
            "<ipython-input-10-883245754eb1>:3: FutureWarning: A value is trying to be set on a copy of a DataFrame or Series through chained assignment using an inplace method.\n",
            "The behavior will change in pandas 3.0. This inplace method will never work because the intermediate object on which we are setting values always behaves as a copy.\n",
            "\n",
            "For example, when doing 'df[col].method(value, inplace=True)', try using 'df.method({col: value}, inplace=True)' or df[col] = df[col].method(value) instead, to perform the operation inplace on the original object.\n",
            "\n",
            "\n",
            "  train_df['text'].fillna('', inplace=True)\n",
            "<ipython-input-10-883245754eb1>:4: FutureWarning: A value is trying to be set on a copy of a DataFrame or Series through chained assignment using an inplace method.\n",
            "The behavior will change in pandas 3.0. This inplace method will never work because the intermediate object on which we are setting values always behaves as a copy.\n",
            "\n",
            "For example, when doing 'df[col].method(value, inplace=True)', try using 'df.method({col: value}, inplace=True)' or df[col] = df[col].method(value) instead, to perform the operation inplace on the original object.\n",
            "\n",
            "\n",
            "  train_df['label'].fillna('unknown', inplace=True)\n",
            "<ipython-input-10-883245754eb1>:6: FutureWarning: A value is trying to be set on a copy of a DataFrame or Series through chained assignment using an inplace method.\n",
            "The behavior will change in pandas 3.0. This inplace method will never work because the intermediate object on which we are setting values always behaves as a copy.\n",
            "\n",
            "For example, when doing 'df[col].method(value, inplace=True)', try using 'df.method({col: value}, inplace=True)' or df[col] = df[col].method(value) instead, to perform the operation inplace on the original object.\n",
            "\n",
            "\n",
            "  validation_df['text'].fillna('', inplace=True)\n",
            "<ipython-input-10-883245754eb1>:7: FutureWarning: A value is trying to be set on a copy of a DataFrame or Series through chained assignment using an inplace method.\n",
            "The behavior will change in pandas 3.0. This inplace method will never work because the intermediate object on which we are setting values always behaves as a copy.\n",
            "\n",
            "For example, when doing 'df[col].method(value, inplace=True)', try using 'df.method({col: value}, inplace=True)' or df[col] = df[col].method(value) instead, to perform the operation inplace on the original object.\n",
            "\n",
            "\n",
            "  validation_df['label'].fillna('unknown', inplace=True)\n",
            "<ipython-input-10-883245754eb1>:9: FutureWarning: A value is trying to be set on a copy of a DataFrame or Series through chained assignment using an inplace method.\n",
            "The behavior will change in pandas 3.0. This inplace method will never work because the intermediate object on which we are setting values always behaves as a copy.\n",
            "\n",
            "For example, when doing 'df[col].method(value, inplace=True)', try using 'df.method({col: value}, inplace=True)' or df[col] = df[col].method(value) instead, to perform the operation inplace on the original object.\n",
            "\n",
            "\n",
            "  test_df['text'].fillna('', inplace=True)\n",
            "<ipython-input-10-883245754eb1>:10: FutureWarning: A value is trying to be set on a copy of a DataFrame or Series through chained assignment using an inplace method.\n",
            "The behavior will change in pandas 3.0. This inplace method will never work because the intermediate object on which we are setting values always behaves as a copy.\n",
            "\n",
            "For example, when doing 'df[col].method(value, inplace=True)', try using 'df.method({col: value}, inplace=True)' or df[col] = df[col].method(value) instead, to perform the operation inplace on the original object.\n",
            "\n",
            "\n",
            "  test_df['label'].fillna('unknown', inplace=True)\n"
          ]
        }
      ],
      "source": [
        "# Data cleaning\n",
        "\n",
        "train_df['text'].fillna('', inplace=True)\n",
        "train_df['label'].fillna('unknown', inplace=True)\n",
        "\n",
        "validation_df['text'].fillna('', inplace=True)\n",
        "validation_df['label'].fillna('unknown', inplace=True)\n",
        "\n",
        "test_df['text'].fillna('', inplace=True)\n",
        "test_df['label'].fillna('unknown', inplace=True)"
      ]
    },
    {
      "cell_type": "code",
      "execution_count": 11,
      "metadata": {
        "id": "Md__q_BWDo7E"
      },
      "outputs": [],
      "source": [
        "# Converting columns to correct data types\n",
        "\n",
        "train_df['label'] = train_df['label'].astype('category')\n",
        "validation_df['label'] = validation_df['label'].astype('category')\n",
        "test_df['label'] = test_df['label'].astype('category')"
      ]
    },
    {
      "cell_type": "code",
      "execution_count": 12,
      "metadata": {
        "colab": {
          "base_uri": "https://localhost:8080/"
        },
        "id": "IbH2x9n3ECrW",
        "outputId": "865c6190-9b9f-4a14-90eb-eca1f056b6bb"
      },
      "outputs": [
        {
          "output_type": "stream",
          "name": "stdout",
          "text": [
            "Post-Cleaning Summary:\n",
            "Testing Data Missing Values:\n",
            " text     0\n",
            "label    0\n",
            "dtype: int64\n",
            "Training Data Missing Values:\n",
            " text     0\n",
            "label    0\n",
            "dtype: int64\n",
            "Validation Data Missing Values:\n",
            " text     0\n",
            "label    0\n",
            "dtype: int64\n",
            "Duplicate Rows in Testing Data: 0\n",
            "Duplicate Rows in Training Data: 0\n",
            "Duplicate Rows in Validation Data: 0\n"
          ]
        }
      ],
      "source": [
        "# Rechecking for missing values and duplicates\n",
        "\n",
        "print(\"Post-Cleaning Summary:\")\n",
        "print(\"Testing Data Missing Values:\\n\", test_df.isnull().sum())\n",
        "print(\"Training Data Missing Values:\\n\", train_df.isnull().sum())\n",
        "print(\"Validation Data Missing Values:\\n\", validation_df.isnull().sum())\n",
        "\n",
        "print(\"Duplicate Rows in Testing Data:\", test_df.duplicated().sum())\n",
        "print(\"Duplicate Rows in Training Data:\", train_df.duplicated().sum())\n",
        "print(\"Duplicate Rows in Validation Data:\", validation_df.duplicated().sum())"
      ]
    },
    {
      "cell_type": "markdown",
      "metadata": {
        "id": "IT9-N-o5EuvX"
      },
      "source": [
        "### Observations and Actions Taken:\n",
        "\n",
        "***Data Types:***\n",
        "\n",
        "**_The text column was already in string format. No changes needed._**\n",
        "\n",
        "**_The label column was converted to the category type for efficiency._**\n",
        "\n",
        "***Missing Values:***\n",
        "\n",
        "**_No Missing text entries was found in the three datasets._**\n",
        "\n",
        "**_No Missing labels were replaced on the datasets_**\n",
        "\n",
        "***Duplicates:***\n",
        "\n",
        "**_Duplicate rows was checked on the testing, training and validation data to confirmed that, I printed the duplicate and 0 was shown for all._**\n",
        "\n",
        "**_These steps ensure the dataset is clean and ready for preprocessing and modeling._**"
      ]
    },
    {
      "cell_type": "markdown",
      "source": [
        "### Move the Labels into separate DataFrame"
      ],
      "metadata": {
        "id": "5h53M_KUquKJ"
      }
    },
    {
      "cell_type": "code",
      "execution_count": 13,
      "metadata": {
        "id": "UgIU-2e3EWck"
      },
      "outputs": [],
      "source": [
        "# Separating labels into a new DataFrame\n",
        "test_labels = test_df['label']\n",
        "train_labels = train_df['label']\n",
        "validation_labels = validation_df['label']"
      ]
    },
    {
      "cell_type": "code",
      "execution_count": 14,
      "metadata": {
        "id": "mXxlulvaHBfp"
      },
      "outputs": [],
      "source": [
        "# Dropping labels from the original DataFrames\n",
        "test_df = test_df.drop(columns=['label'])\n",
        "train_df = train_df.drop(columns=['label'])\n",
        "validation_df = validation_df.drop(columns=['label'])"
      ]
    },
    {
      "cell_type": "code",
      "execution_count": 15,
      "metadata": {
        "colab": {
          "base_uri": "https://localhost:8080/"
        },
        "id": "EibSemXEHOMC",
        "outputId": "e7d3ddd6-c248-4c08-d110-de1dc1ae0455"
      },
      "outputs": [
        {
          "output_type": "stream",
          "name": "stdout",
          "text": [
            "Test labels shape: (3142,)\n",
            "Train labels shape: (3613,)\n",
            "Validation labels shape: (347,)\n"
          ]
        }
      ],
      "source": [
        "# Confirm separation\n",
        "print(\"Test labels shape:\", test_labels.shape)\n",
        "print(\"Train labels shape:\", train_labels.shape)\n",
        "print(\"Validation labels shape:\", validation_labels.shape)"
      ]
    },
    {
      "cell_type": "markdown",
      "metadata": {
        "id": "UthASzdqPxVg"
      },
      "source": [
        "### Encode Labels Using LabelEncoder"
      ]
    },
    {
      "cell_type": "code",
      "execution_count": 16,
      "metadata": {
        "id": "ylJfblfWHXZa"
      },
      "outputs": [],
      "source": [
        "from sklearn.preprocessing import LabelEncoder"
      ]
    },
    {
      "cell_type": "code",
      "execution_count": 17,
      "metadata": {
        "id": "6c7xsbQtJlmg"
      },
      "outputs": [],
      "source": [
        "# Initialize LabelEncoder\n",
        "label_encoder = LabelEncoder()"
      ]
    },
    {
      "cell_type": "code",
      "execution_count": 18,
      "metadata": {
        "id": "-97E3bN7Jpb0"
      },
      "outputs": [],
      "source": [
        "# Fitting and transforming the labels\n",
        "fitter = label_encoder.fit(train_labels)\n",
        "\n",
        "test_labels_encoded = label_encoder.transform(test_labels)\n",
        "train_labels_encoded = label_encoder.fit_transform(train_labels)\n",
        "validation_labels_encoded = label_encoder.transform(validation_labels)"
      ]
    },
    {
      "cell_type": "code",
      "execution_count": 19,
      "metadata": {
        "id": "82emJmPJJyc5"
      },
      "outputs": [],
      "source": [
        "# Reshape labels into 2D arrays\n",
        "test_labels_encoded = test_labels_encoded.reshape(-1, 1)\n",
        "train_labels_encoded = train_labels_encoded.reshape(-1, 1)\n",
        "validation_labels_encoded = validation_labels_encoded.reshape(-1, 1)"
      ]
    },
    {
      "cell_type": "code",
      "execution_count": 20,
      "metadata": {
        "colab": {
          "base_uri": "https://localhost:8080/"
        },
        "id": "xko4DDesKYOn",
        "outputId": "b90dacab-d883-4ae1-cd85-5038d9c9b2df"
      },
      "outputs": [
        {
          "output_type": "stream",
          "name": "stdout",
          "text": [
            "Test labels shape: (3142, 1)\n",
            "Train labels shape: (3613, 1)\n",
            "Validation labels shape: (347, 1)\n"
          ]
        }
      ],
      "source": [
        "# Confirm reshaping\n",
        "print(\"Test labels shape:\", test_labels_encoded.shape)\n",
        "print(\"Train labels shape:\", train_labels_encoded.shape)\n",
        "print(\"Validation labels shape:\", validation_labels_encoded.shape)"
      ]
    },
    {
      "cell_type": "markdown",
      "source": [
        "### Label Mapping"
      ],
      "metadata": {
        "id": "VpKsimTrrgJh"
      }
    },
    {
      "cell_type": "code",
      "execution_count": 21,
      "metadata": {
        "id": "krNiDq8Do5oC"
      },
      "outputs": [],
      "source": [
        "# Get the mapping of labels\n",
        "label_mapping = dict(zip(label_encoder.classes_, label_encoder.transform(label_encoder.classes_)))"
      ]
    },
    {
      "cell_type": "code",
      "execution_count": 22,
      "metadata": {
        "colab": {
          "base_uri": "https://localhost:8080/"
        },
        "id": "YODKg-1auE8N",
        "outputId": "3027cfe2-60b1-4569-f990-08d38cc78cb5"
      },
      "outputs": [
        {
          "output_type": "stream",
          "name": "stdout",
          "text": [
            "Label Mapping: {'anger': 0, 'fear': 1, 'joy': 2, 'sadness': 3}\n"
          ]
        }
      ],
      "source": [
        "# Display the label mapping\n",
        "print(\"Label Mapping:\", label_mapping)"
      ]
    },
    {
      "cell_type": "markdown",
      "source": [
        "### Label Encoding Observations\n",
        "\n",
        "_The labels were successfully separated into a new DataFrame for each dataset (training, validation, testing)._\n",
        "\n",
        "_Using LabelEncoder, the following mappings were created between string labels and integers:\n",
        "`{ 'anger': 0, 'fear': 1, 'joy': 2, 'sadness': 3 }`._\n",
        "\n",
        "_Labels were reshaped into 2D arrays to ensure compatibility with models_"
      ],
      "metadata": {
        "id": "3DMfLyn4rzaB"
      }
    },
    {
      "cell_type": "markdown",
      "source": [
        "### Combine Labels and Create a Bar Plot"
      ],
      "metadata": {
        "id": "LdrkN5JktLfF"
      }
    },
    {
      "cell_type": "code",
      "execution_count": 23,
      "metadata": {
        "id": "jgNWJd36uKF9"
      },
      "outputs": [],
      "source": [
        "# Combine all labels into one DataFrame for analysis\n",
        "all_labels = pd.concat([pd.Series(train_labels), pd.Series(validation_labels), pd.Series(test_labels)], axis=0)"
      ]
    },
    {
      "cell_type": "code",
      "execution_count": 24,
      "metadata": {
        "id": "K-F2UmTl_yvS"
      },
      "outputs": [],
      "source": [
        "# Count the number of occurrences for each category\n",
        "label_counts = all_labels.value_counts().reset_index()\n",
        "label_counts.columns = ['Category', 'Count']"
      ]
    },
    {
      "cell_type": "code",
      "execution_count": 25,
      "metadata": {
        "colab": {
          "base_uri": "https://localhost:8080/",
          "height": 692
        },
        "id": "KRR9rn49__28",
        "outputId": "23de98fc-8b10-444e-ac59-453ed8925c55"
      },
      "outputs": [
        {
          "output_type": "stream",
          "name": "stderr",
          "text": [
            "<ipython-input-25-7ad1086b8970>:3: FutureWarning: \n",
            "\n",
            "Passing `palette` without assigning `hue` is deprecated and will be removed in v0.14.0. Assign the `x` variable to `hue` and set `legend=False` for the same effect.\n",
            "\n",
            "  sns.barplot(data=label_counts, x='Category', y='Count', palette='viridis')\n"
          ]
        },
        {
          "output_type": "display_data",
          "data": {
            "text/plain": [
              "<Figure size 1000x600 with 1 Axes>"
            ],
            "image/png": "[encoded data removed]"
          },
          "metadata": {}
        }
      ],
      "source": [
        "# Plot the bar plot\n",
        "plt.figure(figsize=(10, 6))\n",
        "sns.barplot(data=label_counts, x='Category', y='Count', palette='viridis')\n",
        "plt.title('Number of Elements in Each Category', fontsize=14)\n",
        "plt.xlabel('Category', fontsize=12)\n",
        "plt.ylabel('Count', fontsize=12)\n",
        "plt.xticks(rotation=45)\n",
        "plt.show()"
      ]
    },
    {
      "cell_type": "markdown",
      "source": [
        "#### Comment on how well balanced the Dataset is:\n",
        "\n",
        "_The above bar plot reveals how imbalanced the dataset is as `fear` category has more significant samples than others in the dataset._\n",
        "\n",
        "_The impact of an imbalanced dataset might result in poor performance for underrepresented categories due to insufficient training samples._"
      ],
      "metadata": {
        "id": "e_maYwi9ta6t"
      }
    },
    {
      "cell_type": "markdown",
      "metadata": {
        "id": "TlkGdkA0930Y"
      },
      "source": [
        "### Tokenize each tweet into words"
      ]
    },
    {
      "cell_type": "code",
      "execution_count": 26,
      "metadata": {
        "id": "WllH7g5ZATz6"
      },
      "outputs": [],
      "source": [
        "import nltk\n",
        "from nltk.tokenize import word_tokenize"
      ]
    },
    {
      "cell_type": "code",
      "execution_count": 27,
      "metadata": {
        "colab": {
          "base_uri": "https://localhost:8080/"
        },
        "id": "fAurFuAQBngP",
        "outputId": "6b9f1092-a45b-40d1-c985-0050b4f182e8"
      },
      "outputs": [
        {
          "output_type": "stream",
          "name": "stderr",
          "text": [
            "[nltk_data] Downloading package punkt_tab to /root/nltk_data...\n",
            "[nltk_data]   Package punkt_tab is already up-to-date!\n"
          ]
        },
        {
          "output_type": "execute_result",
          "data": {
            "text/plain": [
              "True"
            ]
          },
          "metadata": {},
          "execution_count": 27
        }
      ],
      "source": [
        "# Download necessary NLTK data\n",
        "nltk.download('punkt_tab')"
      ]
    },
    {
      "cell_type": "code",
      "execution_count": 28,
      "metadata": {
        "id": "LS0WJttHCC3D"
      },
      "outputs": [],
      "source": [
        "# Tokenization function\n",
        "def tokenize_tweets(df):\n",
        "    df['tokens'] = df['text'].apply(lambda x: word_tokenize(x))\n",
        "    return df\n",
        "\n",
        "# Tokenizing tweets in all datasets\n",
        "test_df = tokenize_tweets(test_df)\n",
        "train_df = tokenize_tweets(train_df)\n",
        "validation_df = tokenize_tweets(validation_df)"
      ]
    },
    {
      "cell_type": "code",
      "execution_count": 29,
      "metadata": {
        "colab": {
          "base_uri": "https://localhost:8080/",
          "height": 206
        },
        "id": "BKUYTLLOOYer",
        "outputId": "1d9c1665-a75d-4670-fa1f-b40ac1ee74c3"
      },
      "outputs": [
        {
          "output_type": "execute_result",
          "data": {
            "text/plain": [
              "                                                text  \\\n",
              "0  You must be knowing #blithe means (adj.)  Happ...   \n",
              "1  Old saying 'A #smile shared is one gained for ...   \n",
              "2  Bridget Jones' Baby was bloody hilarious 😅 #Br...   \n",
              "3  @Elaminova sparkling water makes your life spa...   \n",
              "4  I'm tired of everybody telling me to chill out...   \n",
              "\n",
              "                                              tokens  \n",
              "0  [You, must, be, knowing, #, blithe, means, (, ...  \n",
              "1  [Old, saying, ', A, #, smile, shared, is, one,...  \n",
              "2  [Bridget, Jones, ', Baby, was, bloody, hilario...  \n",
              "3  [@, Elaminova, sparkling, water, makes, your, ...  \n",
              "4  [I, 'm, tired, of, everybody, telling, me, to,...  "
            ],
            "text/html": [
              "\n",
              "  <div id=\"df-e4eafe24-0a0f-431b-bccd-df12ec4206c0\" class=\"colab-df-container\">\n",
              "    <div>\n",
              "<style scoped>\n",
              "    .dataframe tbody tr th:only-of-type {\n",
              "        vertical-align: middle;\n",
              "    }\n",
              "\n",
              "    .dataframe tbody tr th {\n",
              "        vertical-align: top;\n",
              "    }\n",
              "\n",
              "    .dataframe thead th {\n",
              "        text-align: right;\n",
              "    }\n",
              "</style>\n",
              "<table border=\"1\" class=\"dataframe\">\n",
              "  <thead>\n",
              "    <tr style=\"text-align: right;\">\n",
              "      <th></th>\n",
              "      <th>text</th>\n",
              "      <th>tokens</th>\n",
              "    </tr>\n",
              "  </thead>\n",
              "  <tbody>\n",
              "    <tr>\n",
              "      <th>0</th>\n",
              "      <td>You must be knowing #blithe means (adj.)  Happ...</td>\n",
              "      <td>[You, must, be, knowing, #, blithe, means, (, ...</td>\n",
              "    </tr>\n",
              "    <tr>\n",
              "      <th>1</th>\n",
              "      <td>Old saying 'A #smile shared is one gained for ...</td>\n",
              "      <td>[Old, saying, ', A, #, smile, shared, is, one,...</td>\n",
              "    </tr>\n",
              "    <tr>\n",
              "      <th>2</th>\n",
              "      <td>Bridget Jones' Baby was bloody hilarious 😅 #Br...</td>\n",
              "      <td>[Bridget, Jones, ', Baby, was, bloody, hilario...</td>\n",
              "    </tr>\n",
              "    <tr>\n",
              "      <th>3</th>\n",
              "      <td>@Elaminova sparkling water makes your life spa...</td>\n",
              "      <td>[@, Elaminova, sparkling, water, makes, your, ...</td>\n",
              "    </tr>\n",
              "    <tr>\n",
              "      <th>4</th>\n",
              "      <td>I'm tired of everybody telling me to chill out...</td>\n",
              "      <td>[I, 'm, tired, of, everybody, telling, me, to,...</td>\n",
              "    </tr>\n",
              "  </tbody>\n",
              "</table>\n",
              "</div>\n",
              "    <div class=\"colab-df-buttons\">\n",
              "\n",
              "  <div class=\"colab-df-container\">\n",
              "    <button class=\"colab-df-convert\" onclick=\"convertToInteractive('df-e4eafe24-0a0f-431b-bccd-df12ec4206c0')\"\n",
              "            title=\"Convert this dataframe to an interactive table.\"\n",
              "            style=\"display:none;\">\n",
              "\n",
              "  <svg xmlns=\"http://www.w3.org/2000/svg\" height=\"24px\" viewBox=\"0 -960 960 960\">\n",
              "    <path d=\"M120-120v-720h720v720H120Zm60-500h600v-160H180v160Zm220 220h160v-160H400v160Zm0 220h160v-160H400v160ZM180-400h160v-160H180v160Zm440 0h160v-160H620v160ZM180-180h160v-160H180v160Zm440 0h160v-160H620v160Z\"/>\n",
              "  </svg>\n",
              "    </button>\n",
              "\n",
              "  <style>\n",
              "    .colab-df-container {\n",
              "      display:flex;\n",
              "      gap: 12px;\n",
              "    }\n",
              "\n",
              "    .colab-df-convert {\n",
              "      background-color: #E8F0FE;\n",
              "      border: none;\n",
              "      border-radius: 50%;\n",
              "      cursor: pointer;\n",
              "      display: none;\n",
              "      fill: #1967D2;\n",
              "      height: 32px;\n",
              "      padding: 0 0 0 0;\n",
              "      width: 32px;\n",
              "    }\n",
              "\n",
              "    .colab-df-convert:hover {\n",
              "      background-color: #E2EBFA;\n",
              "      box-shadow: 0px 1px 2px rgba(60, 64, 67, 0.3), 0px 1px 3px 1px rgba(60, 64, 67, 0.15);\n",
              "      fill: #174EA6;\n",
              "    }\n",
              "\n",
              "    .colab-df-buttons div {\n",
              "      margin-bottom: 4px;\n",
              "    }\n",
              "\n",
              "    [theme=dark] .colab-df-convert {\n",
              "      background-color: #3B4455;\n",
              "      fill: #D2E3FC;\n",
              "    }\n",
              "\n",
              "    [theme=dark] .colab-df-convert:hover {\n",
              "      background-color: #434B5C;\n",
              "      box-shadow: 0px 1px 3px 1px rgba(0, 0, 0, 0.15);\n",
              "      filter: drop-shadow(0px 1px 2px rgba(0, 0, 0, 0.3));\n",
              "      fill: #FFFFFF;\n",
              "    }\n",
              "  </style>\n",
              "\n",
              "    <script>\n",
              "      const buttonEl =\n",
              "        document.querySelector('#df-e4eafe24-0a0f-431b-bccd-df12ec4206c0 button.colab-df-convert');\n",
              "      buttonEl.style.display =\n",
              "        google.colab.kernel.accessAllowed ? 'block' : 'none';\n",
              "\n",
              "      async function convertToInteractive(key) {\n",
              "        const element = document.querySelector('#df-e4eafe24-0a0f-431b-bccd-df12ec4206c0');\n",
              "        const dataTable =\n",
              "          await google.colab.kernel.invokeFunction('convertToInteractive',\n",
              "                                                    [key], {});\n",
              "        if (!dataTable) return;\n",
              "\n",
              "        const docLinkHtml = 'Like what you see? Visit the ' +\n",
              "          '<a target=\"_blank\" href=https://colab.research.google.com/notebooks/data_table.ipynb>data table notebook</a>'\n",
              "          + ' to learn more about interactive tables.';\n",
              "        element.innerHTML = '';\n",
              "        dataTable['output_type'] = 'display_data';\n",
              "        await google.colab.output.renderOutput(dataTable, element);\n",
              "        const docLink = document.createElement('div');\n",
              "        docLink.innerHTML = docLinkHtml;\n",
              "        element.appendChild(docLink);\n",
              "      }\n",
              "    </script>\n",
              "  </div>\n",
              "\n",
              "\n",
              "<div id=\"df-2d926f35-503c-4e1f-b625-2bcbfdda62a9\">\n",
              "  <button class=\"colab-df-quickchart\" onclick=\"quickchart('df-2d926f35-503c-4e1f-b625-2bcbfdda62a9')\"\n",
              "            title=\"Suggest charts\"\n",
              "            style=\"display:none;\">\n",
              "\n",
              "<svg xmlns=\"http://www.w3.org/2000/svg\" height=\"24px\"viewBox=\"0 0 24 24\"\n",
              "     width=\"24px\">\n",
              "    <g>\n",
              "        <path d=\"M19 3H5c-1.1 0-2 .9-2 2v14c0 1.1.9 2 2 2h14c1.1 0 2-.9 2-2V5c0-1.1-.9-2-2-2zM9 17H7v-7h2v7zm4 0h-2V7h2v10zm4 0h-2v-4h2v4z\"/>\n",
              "    </g>\n",
              "</svg>\n",
              "  </button>\n",
              "\n",
              "<style>\n",
              "  .colab-df-quickchart {\n",
              "      --bg-color: #E8F0FE;\n",
              "      --fill-color: #1967D2;\n",
              "      --hover-bg-color: #E2EBFA;\n",
              "      --hover-fill-color: #174EA6;\n",
              "      --disabled-fill-color: #AAA;\n",
              "      --disabled-bg-color: #DDD;\n",
              "  }\n",
              "\n",
              "  [theme=dark] .colab-df-quickchart {\n",
              "      --bg-color: #3B4455;\n",
              "      --fill-color: #D2E3FC;\n",
              "      --hover-bg-color: #434B5C;\n",
              "      --hover-fill-color: #FFFFFF;\n",
              "      --disabled-bg-color: #3B4455;\n",
              "      --disabled-fill-color: #666;\n",
              "  }\n",
              "\n",
              "  .colab-df-quickchart {\n",
              "    background-color: var(--bg-color);\n",
              "    border: none;\n",
              "    border-radius: 50%;\n",
              "    cursor: pointer;\n",
              "    display: none;\n",
              "    fill: var(--fill-color);\n",
              "    height: 32px;\n",
              "    padding: 0;\n",
              "    width: 32px;\n",
              "  }\n",
              "\n",
              "  .colab-df-quickchart:hover {\n",
              "    background-color: var(--hover-bg-color);\n",
              "    box-shadow: 0 1px 2px rgba(60, 64, 67, 0.3), 0 1px 3px 1px rgba(60, 64, 67, 0.15);\n",
              "    fill: var(--button-hover-fill-color);\n",
              "  }\n",
              "\n",
              "  .colab-df-quickchart-complete:disabled,\n",
              "  .colab-df-quickchart-complete:disabled:hover {\n",
              "    background-color: var(--disabled-bg-color);\n",
              "    fill: var(--disabled-fill-color);\n",
              "    box-shadow: none;\n",
              "  }\n",
              "\n",
              "  .colab-df-spinner {\n",
              "    border: 2px solid var(--fill-color);\n",
              "    border-color: transparent;\n",
              "    border-bottom-color: var(--fill-color);\n",
              "    animation:\n",
              "      spin 1s steps(1) infinite;\n",
              "  }\n",
              "\n",
              "  @keyframes spin {\n",
              "    0% {\n",
              "      border-color: transparent;\n",
              "      border-bottom-color: var(--fill-color);\n",
              "      border-left-color: var(--fill-color);\n",
              "    }\n",
              "    20% {\n",
              "      border-color: transparent;\n",
              "      border-left-color: var(--fill-color);\n",
              "      border-top-color: var(--fill-color);\n",
              "    }\n",
              "    30% {\n",
              "      border-color: transparent;\n",
              "      border-left-color: var(--fill-color);\n",
              "      border-top-color: var(--fill-color);\n",
              "      border-right-color: var(--fill-color);\n",
              "    }\n",
              "    40% {\n",
              "      border-color: transparent;\n",
              "      border-right-color: var(--fill-color);\n",
              "      border-top-color: var(--fill-color);\n",
              "    }\n",
              "    60% {\n",
              "      border-color: transparent;\n",
              "      border-right-color: var(--fill-color);\n",
              "    }\n",
              "    80% {\n",
              "      border-color: transparent;\n",
              "      border-right-color: var(--fill-color);\n",
              "      border-bottom-color: var(--fill-color);\n",
              "    }\n",
              "    90% {\n",
              "      border-color: transparent;\n",
              "      border-bottom-color: var(--fill-color);\n",
              "    }\n",
              "  }\n",
              "</style>\n",
              "\n",
              "  <script>\n",
              "    async function quickchart(key) {\n",
              "      const quickchartButtonEl =\n",
              "        document.querySelector('#' + key + ' button');\n",
              "      quickchartButtonEl.disabled = true;  // To prevent multiple clicks.\n",
              "      quickchartButtonEl.classList.add('colab-df-spinner');\n",
              "      try {\n",
              "        const charts = await google.colab.kernel.invokeFunction(\n",
              "            'suggestCharts', [key], {});\n",
              "      } catch (error) {\n",
              "        console.error('Error during call to suggestCharts:', error);\n",
              "      }\n",
              "      quickchartButtonEl.classList.remove('colab-df-spinner');\n",
              "      quickchartButtonEl.classList.add('colab-df-quickchart-complete');\n",
              "    }\n",
              "    (() => {\n",
              "      let quickchartButtonEl =\n",
              "        document.querySelector('#df-2d926f35-503c-4e1f-b625-2bcbfdda62a9 button');\n",
              "      quickchartButtonEl.style.display =\n",
              "        google.colab.kernel.accessAllowed ? 'block' : 'none';\n",
              "    })();\n",
              "  </script>\n",
              "</div>\n",
              "\n",
              "    </div>\n",
              "  </div>\n"
            ],
            "application/vnd.google.colaboratory.intrinsic+json": {
              "type": "dataframe",
              "variable_name": "test_df",
              "summary": "{\n  \"name\": \"test_df\",\n  \"rows\": 3142,\n  \"fields\": [\n    {\n      \"column\": \"text\",\n      \"properties\": {\n        \"dtype\": \"string\",\n        \"num_unique_values\": 3099,\n        \"samples\": [\n          \"What we fear doing most is usually what we most need to do.' ~Tim Ferriss #inspiring #inspired #motivation #fear #success #hustle\",\n          \"So grim being up at 6\",\n          \"I wanna kill you and destroy you. I want you died and I want her back. #emo #scene #anger #fuck #die #hatered\"\n        ],\n        \"semantic_type\": \"\",\n        \"description\": \"\"\n      }\n    },\n    {\n      \"column\": \"tokens\",\n      \"properties\": {\n        \"dtype\": \"object\",\n        \"semantic_type\": \"\",\n        \"description\": \"\"\n      }\n    }\n  ]\n}"
            }
          },
          "metadata": {},
          "execution_count": 29
        }
      ],
      "source": [
        "test_df.head()"
      ]
    },
    {
      "cell_type": "markdown",
      "metadata": {
        "id": "V9W-3kSV9hVb"
      },
      "source": [
        "### Use Speller from the Autocorrect Library to correct spelling mistakes"
      ]
    },
    {
      "cell_type": "code",
      "execution_count": null,
      "metadata": {
        "colab": {
          "base_uri": "https://localhost:8080/"
        },
        "id": "l-lug7_8FjPT",
        "outputId": "9d6c5189-eb0d-4505-9a69-24bdfb971fe5"
      },
      "outputs": [
        {
          "name": "stdout",
          "output_type": "stream",
          "text": [
            "Collecting autocorrect\n",
            "  Downloading autocorrect-2.6.1.tar.gz (622 kB)\n",
            "\u001b[?25l     \u001b[90m━━━━━━━━━━━━━━━━━━━━━━━━━━━━━━━━━━━━━━━━\u001b[0m \u001b[32m0.0/622.8 kB\u001b[0m \u001b[31m?\u001b[0m eta \u001b[36m-:--:--\u001b[0m\r\u001b[2K     \u001b[90m━━━━━━━━━━━━━━━━━━━━━━━━━━━━━━━━━━━━━━━━\u001b[0m \u001b[32m622.8/622.8 kB\u001b[0m \u001b[31m27.9 MB/s\u001b[0m eta \u001b[36m0:00:00\u001b[0m\n",
            "\u001b[?25h  Preparing metadata (setup.py) ... \u001b[?25l\u001b[?25hdone\n",
            "Building wheels for collected packages: autocorrect\n",
            "  Building wheel for autocorrect (setup.py) ... \u001b[?25l\u001b[?25hdone\n",
            "  Created wheel for autocorrect: filename=autocorrect-2.6.1-py3-none-any.whl size=622364 sha256=bc99e9841ef83a1b708597dd56a7616ff08bf54f61c39fb9e3ab86f625f9317a\n",
            "  Stored in directory: /root/.cache/pip/wheels/b5/7b/6d/b76b29ce11ff8e2521c8c7dd0e5bfee4fb1789d76193124343\n",
            "Successfully built autocorrect\n",
            "Installing collected packages: autocorrect\n",
            "Successfully installed autocorrect-2.6.1\n"
          ]
        }
      ],
      "source": [
        "!pip install autocorrect"
      ]
    },
    {
      "cell_type": "code",
      "execution_count": null,
      "metadata": {
        "id": "ImWIfAerEuFK"
      },
      "outputs": [],
      "source": [
        "from autocorrect import Speller"
      ]
    },
    {
      "cell_type": "code",
      "execution_count": null,
      "metadata": {
        "id": "yNgmkTI3Fe_K"
      },
      "outputs": [],
      "source": [
        "# Initialize Speller\n",
        "speller = Speller(lang='en')"
      ]
    },
    {
      "cell_type": "code",
      "execution_count": null,
      "metadata": {
        "id": "ube3aYLLxMOk"
      },
      "outputs": [],
      "source": [
        "# Function to correct spelling mistakes\n",
        "def correct_spelling(tokens):\n",
        "    return [speller(word) for word in tokens]"
      ]
    },
    {
      "cell_type": "code",
      "execution_count": null,
      "metadata": {
        "colab": {
          "background_save": true
        },
        "id": "9adLAAfvxP2_"
      },
      "outputs": [],
      "source": [
        "# Apply spelling correction\n",
        "test_df['tokens'] = test_df['tokens'].apply(correct_spelling)\n",
        "train_df['tokens'] = train_df['tokens'].apply(correct_spelling)\n",
        "validation_df['tokens'] = validation_df['tokens'].apply(correct_spelling)"
      ]
    },
    {
      "cell_type": "markdown",
      "metadata": {
        "id": "114NBfRf9XsT"
      },
      "source": [
        "### Creating a List of Stopwords"
      ]
    },
    {
      "cell_type": "code",
      "execution_count": 30,
      "metadata": {
        "id": "Vvw-uOgOxeaX"
      },
      "outputs": [],
      "source": [
        "from nltk.corpus import stopwords"
      ]
    },
    {
      "cell_type": "code",
      "execution_count": 31,
      "metadata": {
        "colab": {
          "base_uri": "https://localhost:8080/"
        },
        "id": "3WyBrehUxjXW",
        "outputId": "1c0e7876-5dcb-444a-a197-edafe1088e68"
      },
      "outputs": [
        {
          "output_type": "stream",
          "name": "stderr",
          "text": [
            "[nltk_data] Downloading package stopwords to /root/nltk_data...\n",
            "[nltk_data]   Package stopwords is already up-to-date!\n"
          ]
        },
        {
          "output_type": "execute_result",
          "data": {
            "text/plain": [
              "True"
            ]
          },
          "metadata": {},
          "execution_count": 31
        }
      ],
      "source": [
        "# Download stopwords\n",
        "nltk.download('stopwords')"
      ]
    },
    {
      "cell_type": "code",
      "execution_count": 32,
      "metadata": {
        "id": "FgGY8jGdxoHW"
      },
      "outputs": [],
      "source": [
        "# Get the list of English stopwords\n",
        "stop_words = set(stopwords.words('english'))"
      ]
    },
    {
      "cell_type": "code",
      "execution_count": 33,
      "metadata": {
        "id": "OH0bY2Wux3N2"
      },
      "outputs": [],
      "source": [
        "# Function to remove stopwords\n",
        "def remove_stopwords(tokens):\n",
        "    return [word for word in tokens if word.lower() not in stop_words]"
      ]
    },
    {
      "cell_type": "code",
      "execution_count": 34,
      "metadata": {
        "id": "ic-HmsB7x7Qj"
      },
      "outputs": [],
      "source": [
        "# Apply stopword removal\n",
        "test_df['tokens'] = test_df['tokens'].apply(remove_stopwords)\n",
        "train_df['tokens'] = train_df['tokens'].apply(remove_stopwords)\n",
        "validation_df['tokens'] = validation_df['tokens'].apply(remove_stopwords)"
      ]
    },
    {
      "cell_type": "markdown",
      "metadata": {
        "id": "diVb1wsFylAz"
      },
      "source": [
        "### Lemmatization"
      ]
    },
    {
      "cell_type": "code",
      "execution_count": 35,
      "metadata": {
        "id": "6iHn3j01yim9"
      },
      "outputs": [],
      "source": [
        "from nltk.stem import WordNetLemmatizer"
      ]
    },
    {
      "cell_type": "code",
      "execution_count": 36,
      "metadata": {
        "colab": {
          "base_uri": "https://localhost:8080/"
        },
        "id": "nkGrihpSyypw",
        "outputId": "89f2e5ea-4890-4fd2-a196-325829b6d9fd"
      },
      "outputs": [
        {
          "output_type": "stream",
          "name": "stderr",
          "text": [
            "[nltk_data] Downloading package wordnet to /root/nltk_data...\n",
            "[nltk_data]   Package wordnet is already up-to-date!\n"
          ]
        }
      ],
      "source": [
        "# Download WordNet data\n",
        "nltk.download('wordnet')\n",
        "\n",
        "# Initialize WordNetLemmatizer\n",
        "lemmatizer = WordNetLemmatizer()\n",
        "\n",
        "# Function to apply lemmatization\n",
        "def apply_lemmatization(tokens):\n",
        "    return [lemmatizer.lemmatize(word) for word in tokens]\n",
        "\n",
        "# Apply lemmatization\n",
        "test_df['tokens'] = test_df['tokens'].apply(apply_lemmatization)\n",
        "train_df['tokens'] = train_df['tokens'].apply(apply_lemmatization)\n",
        "validation_df['tokens'] = validation_df['tokens'].apply(apply_lemmatization)"
      ]
    },
    {
      "cell_type": "markdown",
      "metadata": {
        "id": "PARHiBnGzOox"
      },
      "source": [
        "### Additional Text Cleanup Using Regular Experssions (re)"
      ]
    },
    {
      "cell_type": "code",
      "execution_count": 37,
      "metadata": {
        "id": "ELFK0DpPzH_H"
      },
      "outputs": [],
      "source": [
        "import re"
      ]
    },
    {
      "cell_type": "code",
      "execution_count": 38,
      "metadata": {
        "id": "VH9BFmNHy4BS"
      },
      "outputs": [],
      "source": [
        "# Function to clean text\n",
        "def clean_text(tokens):\n",
        "    cleaned_tokens = []\n",
        "    for word in tokens:\n",
        "        # Remove non-alphanumeric characters\n",
        "        word = re.sub(r'\\W+', '', word)\n",
        "        # Remove URLs\n",
        "        word = re.sub(r'http\\S+|www\\S+', '', word)\n",
        "        if word:  # Exclude empty strings after cleanup\n",
        "            cleaned_tokens.append(word)\n",
        "    return cleaned_tokens\n"
      ]
    },
    {
      "cell_type": "code",
      "execution_count": 39,
      "metadata": {
        "id": "REiB82zXzeUN"
      },
      "outputs": [],
      "source": [
        "# Apply text cleanup\n",
        "test_df['tokens'] = test_df['tokens'].apply(clean_text)\n",
        "train_df['tokens'] = train_df['tokens'].apply(clean_text)\n",
        "validation_df['tokens'] = validation_df['tokens'].apply(clean_text)"
      ]
    },
    {
      "cell_type": "markdown",
      "metadata": {
        "id": "kVM-GT6iz14W"
      },
      "source": [
        "### Print out the words in the first five preprocessed tweets along with their labels"
      ]
    },
    {
      "cell_type": "code",
      "execution_count": 40,
      "metadata": {
        "colab": {
          "base_uri": "https://localhost:8080/",
          "height": 458
        },
        "id": "-8m_8ideLVyy",
        "outputId": "a65d49fc-631f-4e4c-e205-ebbbda23c784"
      },
      "outputs": [
        {
          "output_type": "execute_result",
          "data": {
            "text/plain": [
              "0       [must, knowing, blithe, mean, adj, Happy, chee...\n",
              "1       [Old, saying, smile, shared, one, gained, anot...\n",
              "2       [Bridget, Jones, Baby, bloody, hilarious, Brid...\n",
              "3       [Elaminova, sparkling, water, make, life, spar...\n",
              "4       [m, tired, everybody, telling, chill, everythi...\n",
              "                              ...                        \n",
              "3137                    [Candice, constantly, pout, GBBO]\n",
              "3138    [redBus_in, unhappy, redbus, CC, talked, week,...\n",
              "3139    [AceOperative789, pull, afew, week, ago, sadly...\n",
              "3140    [m, buying, art, supply, m, debating, serious,...\n",
              "3141    [sainsburys, Could, ask, Chafford, Hundred, st...\n",
              "Name: tokens, Length: 3142, dtype: object"
            ],
            "text/html": [
              "<div>\n",
              "<style scoped>\n",
              "    .dataframe tbody tr th:only-of-type {\n",
              "        vertical-align: middle;\n",
              "    }\n",
              "\n",
              "    .dataframe tbody tr th {\n",
              "        vertical-align: top;\n",
              "    }\n",
              "\n",
              "    .dataframe thead th {\n",
              "        text-align: right;\n",
              "    }\n",
              "</style>\n",
              "<table border=\"1\" class=\"dataframe\">\n",
              "  <thead>\n",
              "    <tr style=\"text-align: right;\">\n",
              "      <th></th>\n",
              "      <th>tokens</th>\n",
              "    </tr>\n",
              "  </thead>\n",
              "  <tbody>\n",
              "    <tr>\n",
              "      <th>0</th>\n",
              "      <td>[must, knowing, blithe, mean, adj, Happy, chee...</td>\n",
              "    </tr>\n",
              "    <tr>\n",
              "      <th>1</th>\n",
              "      <td>[Old, saying, smile, shared, one, gained, anot...</td>\n",
              "    </tr>\n",
              "    <tr>\n",
              "      <th>2</th>\n",
              "      <td>[Bridget, Jones, Baby, bloody, hilarious, Brid...</td>\n",
              "    </tr>\n",
              "    <tr>\n",
              "      <th>3</th>\n",
              "      <td>[Elaminova, sparkling, water, make, life, spar...</td>\n",
              "    </tr>\n",
              "    <tr>\n",
              "      <th>4</th>\n",
              "      <td>[m, tired, everybody, telling, chill, everythi...</td>\n",
              "    </tr>\n",
              "    <tr>\n",
              "      <th>...</th>\n",
              "      <td>...</td>\n",
              "    </tr>\n",
              "    <tr>\n",
              "      <th>3137</th>\n",
              "      <td>[Candice, constantly, pout, GBBO]</td>\n",
              "    </tr>\n",
              "    <tr>\n",
              "      <th>3138</th>\n",
              "      <td>[redBus_in, unhappy, redbus, CC, talked, week,...</td>\n",
              "    </tr>\n",
              "    <tr>\n",
              "      <th>3139</th>\n",
              "      <td>[AceOperative789, pull, afew, week, ago, sadly...</td>\n",
              "    </tr>\n",
              "    <tr>\n",
              "      <th>3140</th>\n",
              "      <td>[m, buying, art, supply, m, debating, serious,...</td>\n",
              "    </tr>\n",
              "    <tr>\n",
              "      <th>3141</th>\n",
              "      <td>[sainsburys, Could, ask, Chafford, Hundred, st...</td>\n",
              "    </tr>\n",
              "  </tbody>\n",
              "</table>\n",
              "<p>3142 rows × 1 columns</p>\n",
              "</div><br><label><b>dtype:</b> object</label>"
            ]
          },
          "metadata": {},
          "execution_count": 40
        }
      ],
      "source": [
        "# Display the words in the first five processed tweets along with their labels\n",
        "test_df['tokens']"
      ]
    },
    {
      "cell_type": "code",
      "execution_count": 41,
      "metadata": {
        "colab": {
          "base_uri": "https://localhost:8080/"
        },
        "id": "DkoTaABizjg4",
        "outputId": "2389279b-ec8e-4ebd-f6f4-137c3a0929b9"
      },
      "outputs": [
        {
          "output_type": "stream",
          "name": "stdout",
          "text": [
            "Processed Tweet 1: ['got', 'back', 'seeing', 'GaryDelaney', 'Burslem', 'AMAZING', 'Face', 'still', 'hurt', 'laughing', 'much', 'hilarious']\n",
            "Label: joy\n",
            "--------------------------------------------------\n",
            "Processed Tweet 2: ['Oh', 'dear', 'evening', 'absolute', 'hilarity', 'nt', 'think', 'laughed', 'much', 'long', 'time']\n",
            "Label: joy\n",
            "--------------------------------------------------\n",
            "Processed Tweet 3: ['waiting', 'week', 'game', 'cheer', 'friday']\n",
            "Label: joy\n",
            "--------------------------------------------------\n",
            "Processed Tweet 4: ['gardiner_love', 'Thank', 'much', 'Gloria', 're', 'sweet', 'thoughtful', 'made', 'day', 'joyful', 'love']\n",
            "Label: joy\n",
            "--------------------------------------------------\n",
            "Processed Tweet 5: ['feel', 'blessed', 'work', 'family', 'nanny', 'nothing', 'love', 'amp', 'appreciation', 'make', 'smile']\n",
            "Label: joy\n",
            "--------------------------------------------------\n"
          ]
        }
      ],
      "source": [
        "# Display the first 5 processed tweets with their labels\n",
        "for i in range(5):\n",
        "    print(f\"Processed Tweet {i + 1}: {train_df['tokens'].iloc[i]}\")\n",
        "    print(f\"Label: {train_labels.iloc[i]}\")\n",
        "    print(\"-\" * 50)"
      ]
    },
    {
      "cell_type": "markdown",
      "metadata": {
        "id": "Ih2md7YX-PMN"
      },
      "source": [
        "### Histogram of Sequence Lengths after Preprocessing"
      ]
    },
    {
      "cell_type": "code",
      "execution_count": 42,
      "metadata": {
        "id": "k4HxE1Ao0TeV"
      },
      "outputs": [],
      "source": [
        "# Compute sequence lengths for the training data\n",
        "sequence_lengths = train_df['tokens'].apply(lambda x: len(x))"
      ]
    },
    {
      "cell_type": "code",
      "execution_count": 43,
      "metadata": {
        "colab": {
          "base_uri": "https://localhost:8080/",
          "height": 569
        },
        "id": "vVN1bX3g-kW-",
        "outputId": "2b6f7a91-0d6a-4d26-fd3b-1f9b26e69f5a"
      },
      "outputs": [
        {
          "output_type": "display_data",
          "data": {
            "text/plain": [
              "<Figure size 1000x600 with 1 Axes>"
            ],
            "image/png": "[encoded data removed]"
          },
          "metadata": {}
        }
      ],
      "source": [
        "# Plot the histogram\n",
        "plt.figure(figsize=(10, 6))\n",
        "plt.hist(sequence_lengths, bins=30, color='skyblue', edgecolor='black', alpha=0.7)\n",
        "plt.title('Distribution of Sequence Lengths After Preprocessing', fontsize=14)\n",
        "plt.xlabel('Sequence Length', fontsize=12)\n",
        "plt.ylabel('Frequency', fontsize=12)\n",
        "plt.grid(axis='y', linestyle='--', alpha=0.7)\n",
        "plt.show()"
      ]
    },
    {
      "cell_type": "markdown",
      "metadata": {
        "id": "kejOHmurTX3Q"
      },
      "source": [
        "### Comment on Maximum Length Hyperparameter\n",
        "\n",
        "_The histogram shows the distribution of sequence lengths after preprocessing and most tweets fall within a specific range 5-15 words_\n",
        "\n",
        "_The choice of maximum length is critical for padding or truncating sequences to ensure uniform input sizes for the model._"
      ]
    },
    {
      "cell_type": "markdown",
      "metadata": {
        "id": "RnMfoFsNGThC"
      },
      "source": [
        "### Analyze Sequence Lengths"
      ]
    },
    {
      "cell_type": "code",
      "execution_count": 44,
      "metadata": {
        "colab": {
          "base_uri": "https://localhost:8080/"
        },
        "id": "ppc0a97r_Jwe",
        "outputId": "599842a3-63db-4135-c1db-df625c01980b"
      },
      "outputs": [
        {
          "output_type": "stream",
          "name": "stdout",
          "text": [
            "Percentiles of Sequence Lengths: [10. 13. 15. 16. 18.]\n"
          ]
        }
      ],
      "source": [
        "# Calculate key percentiles of sequence lengths\n",
        "percentiles = np.percentile(sequence_lengths, [50, 75, 90, 95, 99])\n",
        "print(f\"Percentiles of Sequence Lengths: {percentiles}\")"
      ]
    },
    {
      "cell_type": "markdown",
      "metadata": {
        "id": "6KlEblwuGmE3"
      },
      "source": [
        "### Apply Truncation/Padding"
      ]
    },
    {
      "cell_type": "code",
      "execution_count": 45,
      "metadata": {
        "id": "AttLGIuaGbgn"
      },
      "outputs": [],
      "source": [
        "from tensorflow.keras.preprocessing.sequence import pad_sequences\n",
        "from tensorflow.keras.preprocessing.text import Tokenizer"
      ]
    },
    {
      "cell_type": "code",
      "execution_count": 46,
      "metadata": {
        "id": "32zf_4bNID4a"
      },
      "outputs": [],
      "source": [
        "# Instantiate a Tokenizer\n",
        "tokenizer = Tokenizer()"
      ]
    },
    {
      "cell_type": "code",
      "execution_count": 47,
      "metadata": {
        "id": "5o2PygaXIXJq"
      },
      "outputs": [],
      "source": [
        "# Fit the tokenizer on the combined text data\n",
        "all_text = train_df['tokens'].tolist() + validation_df['tokens'].tolist() + test_df['tokens'].tolist()\n",
        "tokenizer.fit_on_texts(all_text)"
      ]
    },
    {
      "cell_type": "code",
      "execution_count": 48,
      "metadata": {
        "id": "ilnrGqWmG05j"
      },
      "outputs": [],
      "source": [
        "# Convert text to sequences of numerical tokens\n",
        "test_sequences = tokenizer.texts_to_sequences(test_df['tokens'].tolist())\n",
        "train_sequences = tokenizer.texts_to_sequences(train_df['tokens'].tolist())\n",
        "validation_sequences = tokenizer.texts_to_sequences(validation_df['tokens'].tolist())"
      ]
    },
    {
      "cell_type": "code",
      "execution_count": 49,
      "metadata": {
        "id": "2gcTmB3RG-kL"
      },
      "outputs": [],
      "source": [
        "# Define max_length based on analysis (20)\n",
        "max_length = 20"
      ]
    },
    {
      "cell_type": "code",
      "execution_count": 50,
      "metadata": {
        "id": "EV-BmFguHJYj"
      },
      "outputs": [],
      "source": [
        "# Apply Truncation and Padding\n",
        "test_padded = pad_sequences(test_sequences, maxlen=max_length, padding='post', truncating='post')\n",
        "train_padded = pad_sequences(train_sequences, maxlen=max_length, padding='post', truncating='post')\n",
        "validation_padded = pad_sequences(validation_sequences, maxlen=max_length, padding='post', truncating='post')"
      ]
    },
    {
      "cell_type": "code",
      "execution_count": 51,
      "metadata": {
        "colab": {
          "base_uri": "https://localhost:8080/"
        },
        "id": "Hp5rsrN1HYQR",
        "outputId": "95cac1f3-b7ed-4fd1-964c-b3c461207741"
      },
      "outputs": [
        {
          "output_type": "stream",
          "name": "stdout",
          "text": [
            "Padded Training Sequence Shape: (3613, 20)\n",
            "Example Padded Sequence: [  21   34  385 3744 3745   87  147   29  369  423   45   90    0    0\n",
            "    0    0    0    0    0    0]\n"
          ]
        }
      ],
      "source": [
        "# Check the padded sequences\n",
        "print(\"Padded Training Sequence Shape:\", train_padded.shape)\n",
        "print(\"Example Padded Sequence:\", train_padded[0])"
      ]
    },
    {
      "cell_type": "markdown",
      "metadata": {
        "id": "s5sfyCGIJgax"
      },
      "source": [
        "### Observations\n",
        "\n",
        "**1. Key Percentile Analysis:**\n",
        "\n",
        "_Based on the percentile calculation, max_length was set to 20, ensuring that most of the information from tweets is retained while avoiding excessive padding._\n",
        "\n",
        "**2. Uniform Input Sizes:**\n",
        "\n",
        "**_All sequences are now of uniform length:_**\n",
        "\n",
        "_Shorter sequences are padded with zeros at the end (padding='post')._\n",
        "\n",
        "_Longer sequences are truncated after the max_length tokens (truncating='post')._\n",
        "\n",
        "**3. Model Compatibility:**\n",
        "\n",
        "**_Uniform sequence lengths are required for input into models like RNNs, LSTMs, or Transformers._**"
      ]
    },
    {
      "cell_type": "markdown",
      "metadata": {
        "id": "ILO5RrFKKR7m"
      },
      "source": [
        "# Modeling"
      ]
    },
    {
      "cell_type": "markdown",
      "metadata": {
        "id": "Jba09-gALAVk"
      },
      "source": [
        "### Choose a Vocabulary Size\n",
        "\n",
        "**_The vocabulary size determines the maximum number of unique words in the tokenized sequences._**\n",
        "\n",
        "**_A common choice is based on the dataset size._**\n"
      ]
    },
    {
      "cell_type": "code",
      "execution_count": 52,
      "metadata": {
        "id": "V1mzPdu-I8gJ"
      },
      "outputs": [],
      "source": [
        "# Choose vocabulary size\n",
        "vocab_size = 3613"
      ]
    },
    {
      "cell_type": "code",
      "execution_count": 53,
      "metadata": {
        "id": "44-k0HCMMRhq"
      },
      "outputs": [],
      "source": [
        "# Initialize and fit tokenizer on the preprocessed training data\n",
        "tokenizer = Tokenizer(num_words=vocab_size, oov_token=\"<OOV>\")  # \"<OOV>\" token handles unseen words\n",
        "tokenizer.fit_on_texts(train_df['tokens'])"
      ]
    },
    {
      "cell_type": "code",
      "execution_count": 54,
      "metadata": {
        "id": "ZqfobdFKM3Sm"
      },
      "outputs": [],
      "source": [
        "# Convert tweets to sequences of index numbers\n",
        "test_sequences = tokenizer.texts_to_sequences(test_df['tokens'])\n",
        "train_sequences = tokenizer.texts_to_sequences(train_df['tokens'])\n",
        "validation_sequences = tokenizer.texts_to_sequences(validation_df['tokens'])"
      ]
    },
    {
      "cell_type": "code",
      "execution_count": 55,
      "metadata": {
        "id": "S6eXu0k_M7-e"
      },
      "outputs": [],
      "source": [
        "# Apply padding/truncating to sequences\n",
        "max_length = 20  # I am Using the value chosen in the earlier step\n",
        "test_padded = pad_sequences(test_sequences, maxlen=max_length, padding='post', truncating='post')\n",
        "train_padded = pad_sequences(train_sequences, maxlen=max_length, padding='post', truncating='post')\n",
        "validation_padded = pad_sequences(validation_sequences, maxlen=max_length, padding='post', truncating='post')"
      ]
    },
    {
      "cell_type": "code",
      "execution_count": 56,
      "metadata": {
        "colab": {
          "base_uri": "https://localhost:8080/"
        },
        "id": "-Z6EOJvKNOeK",
        "outputId": "51ed7ef7-259b-4c13-d169-2107faf20cf0"
      },
      "outputs": [
        {
          "output_type": "stream",
          "name": "stdout",
          "text": [
            "Vocabulary Size: 9733\n",
            "Example Padded Sequence: [  27   38  442 2233 2234   41  102   24  328  415   51  109    0    0\n",
            "    0    0    0    0    0    0]\n",
            "Shape of Padded Training Data: (3613, 20)\n"
          ]
        }
      ],
      "source": [
        "# Inspect results\n",
        "print(\"Vocabulary Size:\", len(tokenizer.word_index))  # Total number of unique tokens in the tokenizer\n",
        "print(\"Example Padded Sequence:\", train_padded[0])    # First padded sequence\n",
        "print(\"Shape of Padded Training Data:\", train_padded.shape)"
      ]
    },
    {
      "cell_type": "markdown",
      "metadata": {
        "id": "7O2wZXj1SVKg"
      },
      "source": [
        "### Model Architecture\n",
        "**The model includes:**\n",
        "\n",
        "**Embedding Layer:**  _Converts word indices to dense vectors of fixed size._\n",
        "\n",
        "**Bidirectional LSTM:**  _Captures sequential dependencies from both directions in the text._\n",
        "\n",
        "**Dropout Layer:**  _Prevents overfitting by randomly dropping connections during training._\n",
        "\n",
        "**Dense Layers:**  _Maps learned features to the emotion classes._\n"
      ]
    },
    {
      "cell_type": "code",
      "execution_count": 57,
      "metadata": {
        "id": "-GwTuJUzNUuU"
      },
      "outputs": [],
      "source": [
        "import tensorflow as tf\n",
        "from tensorflow.keras import Sequential\n",
        "from tensorflow.keras.layers import Embedding, Bidirectional, LSTM, GRU, Dense, Dropout"
      ]
    },
    {
      "cell_type": "code",
      "execution_count": 58,
      "metadata": {
        "id": "t8KdgPQMlH3d"
      },
      "outputs": [],
      "source": [
        "np.random.seed(42)\n",
        "tf.random.set_seed(42)"
      ]
    },
    {
      "cell_type": "code",
      "execution_count": 59,
      "metadata": {
        "id": "Zu9b7wOfSkb8"
      },
      "outputs": [],
      "source": [
        "# Define model hyperparameters\n",
        "embedding_dim = 64   # Size of word embeddings\n",
        "lstm_units = 128     # Number of LSTM units\n",
        "dropout_rate = 0.5   # Dropout rate\n",
        "output_classes = len(set(train_labels))  # Number of unique labels"
      ]
    },
    {
      "cell_type": "code",
      "execution_count": 95,
      "metadata": {
        "id": "EmqHcMKeSww9"
      },
      "outputs": [],
      "source": [
        "# Create the model\n",
        "model = Sequential([\n",
        "    # Embedding layer\n",
        "    Embedding(input_dim=vocab_size, output_dim=embedding_dim, input_length=max_length),\n",
        "\n",
        "    # Bidirectional LSTM layer\n",
        "    Bidirectional(LSTM(lstm_units, return_sequences=False)),\n",
        "\n",
        "    # Dropout layer\n",
        "    Dropout(dropout_rate),\n",
        "\n",
        "    # Fully connected output layer\n",
        "    Dense(output_classes, activation='softmax')  # Use softmax for multi-class classification\n",
        "])"
      ]
    },
    {
      "cell_type": "code",
      "execution_count": 96,
      "metadata": {
        "id": "WrqO3JEMS99t"
      },
      "outputs": [],
      "source": [
        "# Compile the model\n",
        "model.compile(\n",
        "    optimizer='adam',  # Adaptive optimizer\n",
        "    loss='sparse_categorical_crossentropy',  # Loss function for multi-class labels\n",
        "    metrics=['accuracy']  # Evaluate performance with accuracy\n",
        ")"
      ]
    },
    {
      "cell_type": "code",
      "execution_count": 97,
      "metadata": {
        "id": "ScsQJ0FlVCy_"
      },
      "outputs": [],
      "source": [
        "# Convert train_labels to numerical format\n",
        "if isinstance(train_labels, pd.Series) and train_labels.dtype.name == 'category':\n",
        "    train_labels = train_labels.cat.codes"
      ]
    },
    {
      "cell_type": "code",
      "execution_count": 98,
      "metadata": {
        "id": "oFzhTl98VItO"
      },
      "outputs": [],
      "source": [
        "# Convert columns in train_padded to numerical format if necessary\n",
        "if isinstance(train_padded, pd.DataFrame):\n",
        "    for column in train_padded.select_dtypes(include=['category']).columns:\n",
        "        train_padded[column] = train_padded[column].cat.codes"
      ]
    },
    {
      "cell_type": "code",
      "execution_count": 99,
      "metadata": {
        "colab": {
          "base_uri": "https://localhost:8080/"
        },
        "id": "khp3X82mTKd3",
        "outputId": "969cf470-6b33-4d9f-95d3-001adc4e8c0e"
      },
      "outputs": [
        {
          "output_type": "stream",
          "name": "stdout",
          "text": [
            "Epoch 1/10\n",
            "\u001b[1m113/113\u001b[0m \u001b[32m━━━━━━━━━━━━━━━━━━━━\u001b[0m\u001b[37m\u001b[0m \u001b[1m13s\u001b[0m 57ms/step - accuracy: 0.3285 - loss: 1.3497\n",
            "Epoch 2/10\n",
            "\u001b[1m113/113\u001b[0m \u001b[32m━━━━━━━━━━━━━━━━━━━━\u001b[0m\u001b[37m\u001b[0m \u001b[1m9s\u001b[0m 77ms/step - accuracy: 0.6264 - loss: 0.8742\n",
            "Epoch 3/10\n",
            "\u001b[1m113/113\u001b[0m \u001b[32m━━━━━━━━━━━━━━━━━━━━\u001b[0m\u001b[37m\u001b[0m \u001b[1m7s\u001b[0m 61ms/step - accuracy: 0.8761 - loss: 0.3515\n",
            "Epoch 4/10\n",
            "\u001b[1m113/113\u001b[0m \u001b[32m━━━━━━━━━━━━━━━━━━━━\u001b[0m\u001b[37m\u001b[0m \u001b[1m10s\u001b[0m 58ms/step - accuracy: 0.9436 - loss: 0.1606\n",
            "Epoch 5/10\n",
            "\u001b[1m113/113\u001b[0m \u001b[32m━━━━━━━━━━━━━━━━━━━━\u001b[0m\u001b[37m\u001b[0m \u001b[1m10s\u001b[0m 57ms/step - accuracy: 0.9617 - loss: 0.1045\n",
            "Epoch 6/10\n",
            "\u001b[1m113/113\u001b[0m \u001b[32m━━━━━━━━━━━━━━━━━━━━\u001b[0m\u001b[37m\u001b[0m \u001b[1m9s\u001b[0m 76ms/step - accuracy: 0.9725 - loss: 0.0908\n",
            "Epoch 7/10\n",
            "\u001b[1m113/113\u001b[0m \u001b[32m━━━━━━━━━━━━━━━━━━━━\u001b[0m\u001b[37m\u001b[0m \u001b[1m8s\u001b[0m 57ms/step - accuracy: 0.9756 - loss: 0.0844\n",
            "Epoch 8/10\n",
            "\u001b[1m113/113\u001b[0m \u001b[32m━━━━━━━━━━━━━━━━━━━━\u001b[0m\u001b[37m\u001b[0m \u001b[1m9s\u001b[0m 78ms/step - accuracy: 0.9744 - loss: 0.0751\n",
            "Epoch 9/10\n",
            "\u001b[1m113/113\u001b[0m \u001b[32m━━━━━━━━━━━━━━━━━━━━\u001b[0m\u001b[37m\u001b[0m \u001b[1m10s\u001b[0m 90ms/step - accuracy: 0.9736 - loss: 0.0715\n",
            "Epoch 10/10\n",
            "\u001b[1m113/113\u001b[0m \u001b[32m━━━━━━━━━━━━━━━━━━━━\u001b[0m\u001b[37m\u001b[0m \u001b[1m9s\u001b[0m 78ms/step - accuracy: 0.9822 - loss: 0.0536\n",
            "Final Training Accuracy: 0.9801\n"
          ]
        }
      ],
      "source": [
        "# Define hyperparameters for training\n",
        "batch_size = 32  # Number of samples per batch\n",
        "epochs = 10      # Number of training epochs\n",
        "\n",
        "# Train the model\n",
        "history = model.fit(\n",
        "    train_padded,       # Training data (padded sequences)\n",
        "    train_labels,       # Training labels\n",
        "    batch_size=batch_size,\n",
        "    epochs=epochs,\n",
        "    verbose=1           # Print progress during training\n",
        ")\n",
        "\n",
        "# Retrieve the final training accuracy\n",
        "final_training_accuracy = history.history['accuracy'][-1]\n",
        "print(f\"Final Training Accuracy: {final_training_accuracy:.4f}\")"
      ]
    },
    {
      "cell_type": "code",
      "execution_count": 65,
      "metadata": {
        "colab": {
          "base_uri": "https://localhost:8080/",
          "height": 284
        },
        "id": "R0tmxfXQTIAm",
        "outputId": "ced42983-6fd2-418a-85eb-a4e54e778ced"
      },
      "outputs": [
        {
          "output_type": "display_data",
          "data": {
            "text/plain": [
              "\u001b[1mModel: \"sequential\"\u001b[0m\n"
            ],
            "text/html": [
              "<pre style=\"white-space:pre;overflow-x:auto;line-height:normal;font-family:Menlo,'DejaVu Sans Mono',consolas,'Courier New',monospace\"><span style=\"font-weight: bold\">Model: \"sequential\"</span>\n",
              "</pre>\n"
            ]
          },
          "metadata": {}
        },
        {
          "output_type": "display_data",
          "data": {
            "text/plain": [
              "┏━━━━━━━━━━━━━━━━━━━━━━━━━━━━━━━━━━━━━━┳━━━━━━━━━━━━━━━━━━━━━━━━━━━━━┳━━━━━━━━━━━━━━━━━┓\n",
              "┃\u001b[1m \u001b[0m\u001b[1mLayer (type)                        \u001b[0m\u001b[1m \u001b[0m┃\u001b[1m \u001b[0m\u001b[1mOutput Shape               \u001b[0m\u001b[1m \u001b[0m┃\u001b[1m \u001b[0m\u001b[1m        Param #\u001b[0m\u001b[1m \u001b[0m┃\n",
              "┡━━━━━━━━━━━━━━━━━━━━━━━━━━━━━━━━━━━━━━╇━━━━━━━━━━━━━━━━━━━━━━━━━━━━━╇━━━━━━━━━━━━━━━━━┩\n",
              "│ embedding (\u001b[38;5;33mEmbedding\u001b[0m)                │ (\u001b[38;5;45mNone\u001b[0m, \u001b[38;5;34m20\u001b[0m, \u001b[38;5;34m64\u001b[0m)              │         \u001b[38;5;34m231,232\u001b[0m │\n",
              "├──────────────────────────────────────┼─────────────────────────────┼─────────────────┤\n",
              "│ bidirectional (\u001b[38;5;33mBidirectional\u001b[0m)        │ (\u001b[38;5;45mNone\u001b[0m, \u001b[38;5;34m256\u001b[0m)                 │         \u001b[38;5;34m197,632\u001b[0m │\n",
              "├──────────────────────────────────────┼─────────────────────────────┼─────────────────┤\n",
              "│ dropout (\u001b[38;5;33mDropout\u001b[0m)                    │ (\u001b[38;5;45mNone\u001b[0m, \u001b[38;5;34m256\u001b[0m)                 │               \u001b[38;5;34m0\u001b[0m │\n",
              "├──────────────────────────────────────┼─────────────────────────────┼─────────────────┤\n",
              "│ dense (\u001b[38;5;33mDense\u001b[0m)                        │ (\u001b[38;5;45mNone\u001b[0m, \u001b[38;5;34m4\u001b[0m)                   │           \u001b[38;5;34m1,028\u001b[0m │\n",
              "└──────────────────────────────────────┴─────────────────────────────┴─────────────────┘\n"
            ],
            "text/html": [
              "<pre style=\"white-space:pre;overflow-x:auto;line-height:normal;font-family:Menlo,'DejaVu Sans Mono',consolas,'Courier New',monospace\">┏━━━━━━━━━━━━━━━━━━━━━━━━━━━━━━━━━━━━━━┳━━━━━━━━━━━━━━━━━━━━━━━━━━━━━┳━━━━━━━━━━━━━━━━━┓\n",
              "┃<span style=\"font-weight: bold\"> Layer (type)                         </span>┃<span style=\"font-weight: bold\"> Output Shape                </span>┃<span style=\"font-weight: bold\">         Param # </span>┃\n",
              "┡━━━━━━━━━━━━━━━━━━━━━━━━━━━━━━━━━━━━━━╇━━━━━━━━━━━━━━━━━━━━━━━━━━━━━╇━━━━━━━━━━━━━━━━━┩\n",
              "│ embedding (<span style=\"color: #0087ff; text-decoration-color: #0087ff\">Embedding</span>)                │ (<span style=\"color: #00d7ff; text-decoration-color: #00d7ff\">None</span>, <span style=\"color: #00af00; text-decoration-color: #00af00\">20</span>, <span style=\"color: #00af00; text-decoration-color: #00af00\">64</span>)              │         <span style=\"color: #00af00; text-decoration-color: #00af00\">231,232</span> │\n",
              "├──────────────────────────────────────┼─────────────────────────────┼─────────────────┤\n",
              "│ bidirectional (<span style=\"color: #0087ff; text-decoration-color: #0087ff\">Bidirectional</span>)        │ (<span style=\"color: #00d7ff; text-decoration-color: #00d7ff\">None</span>, <span style=\"color: #00af00; text-decoration-color: #00af00\">256</span>)                 │         <span style=\"color: #00af00; text-decoration-color: #00af00\">197,632</span> │\n",
              "├──────────────────────────────────────┼─────────────────────────────┼─────────────────┤\n",
              "│ dropout (<span style=\"color: #0087ff; text-decoration-color: #0087ff\">Dropout</span>)                    │ (<span style=\"color: #00d7ff; text-decoration-color: #00d7ff\">None</span>, <span style=\"color: #00af00; text-decoration-color: #00af00\">256</span>)                 │               <span style=\"color: #00af00; text-decoration-color: #00af00\">0</span> │\n",
              "├──────────────────────────────────────┼─────────────────────────────┼─────────────────┤\n",
              "│ dense (<span style=\"color: #0087ff; text-decoration-color: #0087ff\">Dense</span>)                        │ (<span style=\"color: #00d7ff; text-decoration-color: #00d7ff\">None</span>, <span style=\"color: #00af00; text-decoration-color: #00af00\">4</span>)                   │           <span style=\"color: #00af00; text-decoration-color: #00af00\">1,028</span> │\n",
              "└──────────────────────────────────────┴─────────────────────────────┴─────────────────┘\n",
              "</pre>\n"
            ]
          },
          "metadata": {}
        },
        {
          "output_type": "display_data",
          "data": {
            "text/plain": [
              "\u001b[1m Total params: \u001b[0m\u001b[38;5;34m1,289,678\u001b[0m (4.92 MB)\n"
            ],
            "text/html": [
              "<pre style=\"white-space:pre;overflow-x:auto;line-height:normal;font-family:Menlo,'DejaVu Sans Mono',consolas,'Courier New',monospace\"><span style=\"font-weight: bold\"> Total params: </span><span style=\"color: #00af00; text-decoration-color: #00af00\">1,289,678</span> (4.92 MB)\n",
              "</pre>\n"
            ]
          },
          "metadata": {}
        },
        {
          "output_type": "display_data",
          "data": {
            "text/plain": [
              "\u001b[1m Trainable params: \u001b[0m\u001b[38;5;34m429,892\u001b[0m (1.64 MB)\n"
            ],
            "text/html": [
              "<pre style=\"white-space:pre;overflow-x:auto;line-height:normal;font-family:Menlo,'DejaVu Sans Mono',consolas,'Courier New',monospace\"><span style=\"font-weight: bold\"> Trainable params: </span><span style=\"color: #00af00; text-decoration-color: #00af00\">429,892</span> (1.64 MB)\n",
              "</pre>\n"
            ]
          },
          "metadata": {}
        },
        {
          "output_type": "display_data",
          "data": {
            "text/plain": [
              "\u001b[1m Non-trainable params: \u001b[0m\u001b[38;5;34m0\u001b[0m (0.00 B)\n"
            ],
            "text/html": [
              "<pre style=\"white-space:pre;overflow-x:auto;line-height:normal;font-family:Menlo,'DejaVu Sans Mono',consolas,'Courier New',monospace\"><span style=\"font-weight: bold\"> Non-trainable params: </span><span style=\"color: #00af00; text-decoration-color: #00af00\">0</span> (0.00 B)\n",
              "</pre>\n"
            ]
          },
          "metadata": {}
        },
        {
          "output_type": "display_data",
          "data": {
            "text/plain": [
              "\u001b[1m Optimizer params: \u001b[0m\u001b[38;5;34m859,786\u001b[0m (3.28 MB)\n"
            ],
            "text/html": [
              "<pre style=\"white-space:pre;overflow-x:auto;line-height:normal;font-family:Menlo,'DejaVu Sans Mono',consolas,'Courier New',monospace\"><span style=\"font-weight: bold\"> Optimizer params: </span><span style=\"color: #00af00; text-decoration-color: #00af00\">859,786</span> (3.28 MB)\n",
              "</pre>\n"
            ]
          },
          "metadata": {}
        }
      ],
      "source": [
        "# Print model summary\n",
        "model.summary()"
      ]
    },
    {
      "cell_type": "markdown",
      "metadata": {
        "id": "EFrVjjphnTaW"
      },
      "source": [
        "### The Predictions on Validation Data"
      ]
    },
    {
      "cell_type": "code",
      "execution_count": 66,
      "metadata": {
        "id": "eCaiOl6obORn"
      },
      "outputs": [],
      "source": [
        "from sklearn.metrics import confusion_matrix, accuracy_score\n",
        "from sklearn import preprocessing"
      ]
    },
    {
      "cell_type": "code",
      "execution_count": 69,
      "metadata": {
        "id": "LEOh7FBEm3gz"
      },
      "outputs": [],
      "source": [
        "le = preprocessing.LabelEncoder()\n",
        "validation_labels_encoded = le.fit_transform(validation_labels)"
      ]
    },
    {
      "cell_type": "code",
      "execution_count": 67,
      "metadata": {
        "colab": {
          "base_uri": "https://localhost:8080/"
        },
        "id": "dFFluzMolpr9",
        "outputId": "fadd33f1-f2ce-4d98-948a-4261ca76b54e"
      },
      "outputs": [
        {
          "output_type": "stream",
          "name": "stdout",
          "text": [
            "\u001b[1m11/11\u001b[0m \u001b[32m━━━━━━━━━━━━━━━━━━━━\u001b[0m\u001b[37m\u001b[0m \u001b[1m1s\u001b[0m 50ms/step\n"
          ]
        }
      ],
      "source": [
        "# Make predictions on the validation data\n",
        "val_predictions = model.predict(validation_padded)\n",
        "val_predicted_labels = val_predictions.argmax(axis=1)  # Convert probabilities to class indices"
      ]
    },
    {
      "cell_type": "code",
      "execution_count": 68,
      "metadata": {
        "colab": {
          "base_uri": "https://localhost:8080/"
        },
        "id": "3YZ0VJMHl_1u",
        "outputId": "dca30d7c-7d3b-4aec-a999-f7d2e8c7361f"
      },
      "outputs": [
        {
          "output_type": "stream",
          "name": "stdout",
          "text": [
            "\u001b[1m11/11\u001b[0m \u001b[32m━━━━━━━━━━━━━━━━━━━━\u001b[0m\u001b[37m\u001b[0m \u001b[1m1s\u001b[0m 17ms/step - accuracy: 0.8169 - loss: 0.6384\n",
            "Validation Accuracy: 0.8300\n"
          ]
        }
      ],
      "source": [
        "# Calculate validation accuracy\n",
        "validation_accuracy = model.evaluate(validation_padded, validation_labels_encoded)[1]\n",
        "print(f\"Validation Accuracy: {validation_accuracy:.4f}\")"
      ]
    },
    {
      "cell_type": "markdown",
      "metadata": {
        "id": "Ffvb5djgtJJz"
      },
      "source": [
        "### Validation Accuracy\n",
        "\n",
        "**_The model achieved a validation accuracy of 0.8300 on the dataset._**\n",
        "\n",
        "**_This metric provides a general measure of how well the model is performing._**\n",
        "\n",
        "**_This is significantly lower than the training accuracy, which indicate overfitting._**"
      ]
    },
    {
      "cell_type": "code",
      "execution_count": 69,
      "metadata": {
        "id": "Ly81hLMwmJgs"
      },
      "outputs": [],
      "source": [
        "# Create a confusion matrix\n",
        "conf_matrix = confusion_matrix(validation_labels_encoded, val_predicted_labels)"
      ]
    },
    {
      "cell_type": "code",
      "execution_count": 70,
      "metadata": {
        "colab": {
          "base_uri": "https://localhost:8080/",
          "height": 564
        },
        "id": "mJxSf73YmWiT",
        "outputId": "04f37b8d-c762-491c-ea19-f2fcdf036a8b"
      },
      "outputs": [
        {
          "output_type": "display_data",
          "data": {
            "text/plain": [
              "<Figure size 800x600 with 2 Axes>"
            ],
            "image/png": "[encoded data removed]"
          },
          "metadata": {}
        }
      ],
      "source": [
        "# Visualize the confusion matrix\n",
        "plt.figure(figsize=(8, 6))\n",
        "sns.heatmap(conf_matrix, annot=True, fmt='d', cmap='Blues',\n",
        "            xticklabels=range(output_classes), yticklabels=range(output_classes))\n",
        "plt.title('Confusion Matrix for Validation Data')\n",
        "plt.xlabel('Predicted Labels')\n",
        "plt.ylabel('True Labels')\n",
        "plt.show()"
      ]
    },
    {
      "cell_type": "markdown",
      "metadata": {
        "id": "2zyodpN0r048"
      },
      "source": [
        "### Confusion Matrix\n",
        "\n",
        "**The confusion matrix visualizes the model's classification performance:**\n",
        "\n",
        "**Rows:**  _Represent the true labels._\n",
        "\n",
        "**Columns:** _Represent the predicted labels._\n",
        "\n",
        "**Diagonal values:** _Indicate correctly classified instances._\n",
        "\n",
        "**Off-diagonal values:** _Indicate misclassifications._\n",
        "\n",
        "### Analysis of the Confusion Matrix\n",
        "\n",
        "**The diagonal values dominate, the model classifies correctly for most classes.**\n",
        "\n",
        "**_Any significant off-diagonal values indicate where the model confuses one class with another._**"
      ]
    },
    {
      "cell_type": "markdown",
      "metadata": {
        "id": "0ihJoTnOuUd9"
      },
      "source": [
        "### Changing Architecture and Hyperparameters"
      ]
    },
    {
      "cell_type": "markdown",
      "metadata": {
        "id": "Gqyuuqajuxmn"
      },
      "source": [
        "### Model 1: Basic LSTM Model"
      ]
    },
    {
      "cell_type": "code",
      "execution_count": 71,
      "metadata": {
        "colab": {
          "base_uri": "https://localhost:8080/"
        },
        "id": "yT7plHfmnTPq",
        "outputId": "5b12135a-66ce-4019-811d-00968bcb4ad3"
      },
      "outputs": [
        {
          "output_type": "stream",
          "name": "stderr",
          "text": [
            "/usr/local/lib/python3.10/dist-packages/keras/src/layers/core/embedding.py:90: UserWarning: Argument `input_length` is deprecated. Just remove it.\n",
            "  warnings.warn(\n"
          ]
        }
      ],
      "source": [
        "# Model 1: Simple LSTM\n",
        "model_1 = Sequential([\n",
        "    Embedding(input_dim=vocab_size, output_dim=64, input_length=max_length),\n",
        "    LSTM(128, dropout=0.3, return_sequences=False),\n",
        "    Dense(output_classes, activation='softmax')\n",
        "])\n",
        "\n",
        "# Compile the model\n",
        "model_1.compile(optimizer='adam', loss='sparse_categorical_crossentropy', metrics=['accuracy'])"
      ]
    },
    {
      "cell_type": "code",
      "execution_count": 72,
      "metadata": {
        "colab": {
          "base_uri": "https://localhost:8080/"
        },
        "id": "my9g7yri1Ktc",
        "outputId": "d8ec10a5-be13-4e7f-eef2-404ec5c642f9"
      },
      "outputs": [
        {
          "output_type": "stream",
          "name": "stdout",
          "text": [
            "Epoch 1/10\n",
            "\u001b[1m113/113\u001b[0m \u001b[32m━━━━━━━━━━━━━━━━━━━━\u001b[0m\u001b[37m\u001b[0m \u001b[1m8s\u001b[0m 51ms/step - accuracy: 0.3219 - loss: 1.3541 - val_accuracy: 0.3660 - val_loss: 1.2132\n",
            "Epoch 2/10\n",
            "\u001b[1m113/113\u001b[0m \u001b[32m━━━━━━━━━━━━━━━━━━━━\u001b[0m\u001b[37m\u001b[0m \u001b[1m9s\u001b[0m 43ms/step - accuracy: 0.4793 - loss: 1.0021 - val_accuracy: 0.5908 - val_loss: 0.9664\n",
            "Epoch 3/10\n",
            "\u001b[1m113/113\u001b[0m \u001b[32m━━━━━━━━━━━━━━━━━━━━\u001b[0m\u001b[37m\u001b[0m \u001b[1m5s\u001b[0m 42ms/step - accuracy: 0.7530 - loss: 0.6084 - val_accuracy: 0.7176 - val_loss: 0.7581\n",
            "Epoch 4/10\n",
            "\u001b[1m113/113\u001b[0m \u001b[32m━━━━━━━━━━━━━━━━━━━━\u001b[0m\u001b[37m\u001b[0m \u001b[1m5s\u001b[0m 40ms/step - accuracy: 0.8633 - loss: 0.3787 - val_accuracy: 0.7176 - val_loss: 0.7840\n",
            "Epoch 5/10\n",
            "\u001b[1m113/113\u001b[0m \u001b[32m━━━━━━━━━━━━━━━━━━━━\u001b[0m\u001b[37m\u001b[0m \u001b[1m6s\u001b[0m 49ms/step - accuracy: 0.9183 - loss: 0.2514 - val_accuracy: 0.7406 - val_loss: 0.8712\n",
            "Epoch 6/10\n",
            "\u001b[1m113/113\u001b[0m \u001b[32m━━━━━━━━━━━━━━━━━━━━\u001b[0m\u001b[37m\u001b[0m \u001b[1m4s\u001b[0m 36ms/step - accuracy: 0.9404 - loss: 0.1821 - val_accuracy: 0.7522 - val_loss: 0.7633\n",
            "Epoch 7/10\n",
            "\u001b[1m113/113\u001b[0m \u001b[32m━━━━━━━━━━━━━━━━━━━━\u001b[0m\u001b[37m\u001b[0m \u001b[1m5s\u001b[0m 40ms/step - accuracy: 0.9547 - loss: 0.1596 - val_accuracy: 0.7522 - val_loss: 0.8060\n",
            "Epoch 8/10\n",
            "\u001b[1m113/113\u001b[0m \u001b[32m━━━━━━━━━━━━━━━━━━━━\u001b[0m\u001b[37m\u001b[0m \u001b[1m7s\u001b[0m 53ms/step - accuracy: 0.9537 - loss: 0.1562 - val_accuracy: 0.7291 - val_loss: 0.7925\n",
            "Epoch 9/10\n",
            "\u001b[1m113/113\u001b[0m \u001b[32m━━━━━━━━━━━━━━━━━━━━\u001b[0m\u001b[37m\u001b[0m \u001b[1m8s\u001b[0m 34ms/step - accuracy: 0.9674 - loss: 0.1113 - val_accuracy: 0.7205 - val_loss: 0.9010\n",
            "Epoch 10/10\n",
            "\u001b[1m113/113\u001b[0m \u001b[32m━━━━━━━━━━━━━━━━━━━━\u001b[0m\u001b[37m\u001b[0m \u001b[1m7s\u001b[0m 53ms/step - accuracy: 0.9725 - loss: 0.0901 - val_accuracy: 0.7147 - val_loss: 1.0152\n",
            "Final Training Accuracy: 0.9718\n",
            "Final Validation Accuracy: 0.7147\n"
          ]
        }
      ],
      "source": [
        "# Training model 1\n",
        "batch_size = 32\n",
        "epochs = 10\n",
        "\n",
        "# Train Model 1\n",
        "history_1 = model_1.fit(train_padded, train_labels, validation_data=(validation_padded, validation_labels_encoded), batch_size=batch_size, epochs=epochs, verbose=1)\n",
        "\n",
        "# Access the training history from the correct variable 'history_1'\n",
        "final_training_accuracy = history_1.history['accuracy'][-1]  # Access training accuracy\n",
        "print(f\"Final Training Accuracy: {final_training_accuracy:.4f}\")\n",
        "\n",
        "# Use 'val_accuracy' instead of 'validation_accuracy' for validation accuracy\n",
        "final_validation_accuracy = history_1.history['val_accuracy'][-1]  # Access validation accuracy\n",
        "print(f\"Final Validation Accuracy: {final_validation_accuracy:.4f}\")"
      ]
    },
    {
      "cell_type": "markdown",
      "metadata": {
        "id": "JXXUk5lovd2Q"
      },
      "source": [
        "### Model 2: Bidirectional LSTM with Dropout"
      ]
    },
    {
      "cell_type": "code",
      "execution_count": 73,
      "metadata": {
        "colab": {
          "base_uri": "https://localhost:8080/"
        },
        "id": "nqXcmt6lvcAU",
        "outputId": "e652b3f9-dedd-4cec-bc68-abc3aa714c4d"
      },
      "outputs": [
        {
          "output_type": "stream",
          "name": "stderr",
          "text": [
            "/usr/local/lib/python3.10/dist-packages/keras/src/layers/core/embedding.py:90: UserWarning: Argument `input_length` is deprecated. Just remove it.\n",
            "  warnings.warn(\n"
          ]
        }
      ],
      "source": [
        "# Model 2: Bidirectional LSTM\n",
        "model_2 = Sequential([\n",
        "    Embedding(input_dim=vocab_size, output_dim=64, input_length=max_length),\n",
        "    Bidirectional(LSTM(128, dropout=0.3, return_sequences=False)),\n",
        "    Dense(output_classes, activation='softmax')\n",
        "])\n",
        "\n",
        "# Compile the model\n",
        "model_2.compile(optimizer='adam', loss='sparse_categorical_crossentropy', metrics=['accuracy'])"
      ]
    },
    {
      "cell_type": "code",
      "execution_count": 74,
      "metadata": {
        "colab": {
          "base_uri": "https://localhost:8080/"
        },
        "id": "ZSjO_1_61eSE",
        "outputId": "a62ad742-c185-4694-ad4b-e3a9e633a2ce"
      },
      "outputs": [
        {
          "output_type": "stream",
          "name": "stdout",
          "text": [
            "Epoch 1/10\n",
            "\u001b[1m113/113\u001b[0m \u001b[32m━━━━━━━━━━━━━━━━━━━━\u001b[0m\u001b[37m\u001b[0m \u001b[1m15s\u001b[0m 84ms/step - accuracy: 0.3342 - loss: 1.3502 - val_accuracy: 0.3573 - val_loss: 1.2491\n",
            "Epoch 2/10\n",
            "\u001b[1m113/113\u001b[0m \u001b[32m━━━━━━━━━━━━━━━━━━━━\u001b[0m\u001b[37m\u001b[0m \u001b[1m8s\u001b[0m 62ms/step - accuracy: 0.6633 - loss: 0.8057 - val_accuracy: 0.6945 - val_loss: 0.9205\n",
            "Epoch 3/10\n",
            "\u001b[1m113/113\u001b[0m \u001b[32m━━━━━━━━━━━━━━━━━━━━\u001b[0m\u001b[37m\u001b[0m \u001b[1m10s\u001b[0m 61ms/step - accuracy: 0.8847 - loss: 0.3576 - val_accuracy: 0.7147 - val_loss: 0.8494\n",
            "Epoch 4/10\n",
            "\u001b[1m113/113\u001b[0m \u001b[32m━━━━━━━━━━━━━━━━━━━━\u001b[0m\u001b[37m\u001b[0m \u001b[1m9s\u001b[0m 80ms/step - accuracy: 0.9378 - loss: 0.1963 - val_accuracy: 0.7723 - val_loss: 0.7731\n",
            "Epoch 5/10\n",
            "\u001b[1m113/113\u001b[0m \u001b[32m━━━━━━━━━━━━━━━━━━━━\u001b[0m\u001b[37m\u001b[0m \u001b[1m11s\u001b[0m 86ms/step - accuracy: 0.9638 - loss: 0.1244 - val_accuracy: 0.7810 - val_loss: 0.7586\n",
            "Epoch 6/10\n",
            "\u001b[1m113/113\u001b[0m \u001b[32m━━━━━━━━━━━━━━━━━━━━\u001b[0m\u001b[37m\u001b[0m \u001b[1m7s\u001b[0m 61ms/step - accuracy: 0.9698 - loss: 0.0893 - val_accuracy: 0.8069 - val_loss: 0.7344\n",
            "Epoch 7/10\n",
            "\u001b[1m113/113\u001b[0m \u001b[32m━━━━━━━━━━━━━━━━━━━━\u001b[0m\u001b[37m\u001b[0m \u001b[1m12s\u001b[0m 80ms/step - accuracy: 0.9735 - loss: 0.0752 - val_accuracy: 0.7896 - val_loss: 0.7847\n",
            "Epoch 8/10\n",
            "\u001b[1m113/113\u001b[0m \u001b[32m━━━━━━━━━━━━━━━━━━━━\u001b[0m\u001b[37m\u001b[0m \u001b[1m10s\u001b[0m 77ms/step - accuracy: 0.9719 - loss: 0.0755 - val_accuracy: 0.7781 - val_loss: 0.7537\n",
            "Epoch 9/10\n",
            "\u001b[1m113/113\u001b[0m \u001b[32m━━━━━━━━━━━━━━━━━━━━\u001b[0m\u001b[37m\u001b[0m \u001b[1m9s\u001b[0m 81ms/step - accuracy: 0.9732 - loss: 0.0733 - val_accuracy: 0.7666 - val_loss: 0.8084\n",
            "Epoch 10/10\n",
            "\u001b[1m113/113\u001b[0m \u001b[32m━━━━━━━━━━━━━━━━━━━━\u001b[0m\u001b[37m\u001b[0m \u001b[1m9s\u001b[0m 69ms/step - accuracy: 0.9785 - loss: 0.0557 - val_accuracy: 0.8069 - val_loss: 0.8552\n",
            "Final Training Accuracy: 0.9773\n",
            "Final Validation Accuracy: 0.8069\n"
          ]
        }
      ],
      "source": [
        "# Training model 2\n",
        "batch_size = 32\n",
        "epochs = 10\n",
        "\n",
        "# Train Model 2\n",
        "history_2 = model_2.fit(train_padded, train_labels, validation_data=(validation_padded, validation_labels_encoded), batch_size=batch_size, epochs=epochs, verbose=1)\n",
        "\n",
        "# Access the training history from the correct variable 'history_1'\n",
        "final_training_accuracy = history_2.history['accuracy'][-1]  # Access training accuracy\n",
        "print(f\"Final Training Accuracy: {final_training_accuracy:.4f}\")\n",
        "\n",
        "# Use 'val_accuracy' instead of 'validation_accuracy' for validation accuracy\n",
        "final_validation_accuracy = history_2.history['val_accuracy'][-1]  # Access validation accuracy\n",
        "print(f\"Final Validation Accuracy: {final_validation_accuracy:.4f}\")"
      ]
    },
    {
      "cell_type": "markdown",
      "metadata": {
        "id": "pe_wtv8TvrJz"
      },
      "source": [
        "### Model 3: GRU with Dropout"
      ]
    },
    {
      "cell_type": "code",
      "execution_count": 75,
      "metadata": {
        "id": "Xo7d-sQpvv3-"
      },
      "outputs": [],
      "source": [
        "# Model 3: GRU with Dropout\n",
        "model_3 = Sequential([\n",
        "    Embedding(input_dim=vocab_size, output_dim=64, input_length=max_length),\n",
        "    GRU(128, dropout=0.3, return_sequences=False),\n",
        "    Dense(output_classes, activation='softmax')\n",
        "])\n",
        "\n",
        "# Compile the model\n",
        "model_3.compile(optimizer='adam', loss='sparse_categorical_crossentropy', metrics=['accuracy'])"
      ]
    },
    {
      "cell_type": "code",
      "execution_count": 76,
      "metadata": {
        "colab": {
          "base_uri": "https://localhost:8080/"
        },
        "id": "BNm7M10e1jBr",
        "outputId": "c0d4158a-0a57-4817-e763-4417437c1774"
      },
      "outputs": [
        {
          "output_type": "stream",
          "name": "stdout",
          "text": [
            "Epoch 1/10\n",
            "\u001b[1m113/113\u001b[0m \u001b[32m━━━━━━━━━━━━━━━━━━━━\u001b[0m\u001b[37m\u001b[0m \u001b[1m8s\u001b[0m 49ms/step - accuracy: 0.3024 - loss: 1.3781 - val_accuracy: 0.3170 - val_loss: 1.3746\n",
            "Epoch 2/10\n",
            "\u001b[1m113/113\u001b[0m \u001b[32m━━━━━━━━━━━━━━━━━━━━\u001b[0m\u001b[37m\u001b[0m \u001b[1m8s\u001b[0m 30ms/step - accuracy: 0.3398 - loss: 1.3345 - val_accuracy: 0.4121 - val_loss: 1.1936\n",
            "Epoch 3/10\n",
            "\u001b[1m113/113\u001b[0m \u001b[32m━━━━━━━━━━━━━━━━━━━━\u001b[0m\u001b[37m\u001b[0m \u001b[1m6s\u001b[0m 39ms/step - accuracy: 0.5295 - loss: 0.9106 - val_accuracy: 0.5447 - val_loss: 0.9841\n",
            "Epoch 4/10\n",
            "\u001b[1m113/113\u001b[0m \u001b[32m━━━━━━━━━━━━━━━━━━━━\u001b[0m\u001b[37m\u001b[0m \u001b[1m4s\u001b[0m 32ms/step - accuracy: 0.6686 - loss: 0.7014 - val_accuracy: 0.6542 - val_loss: 0.8161\n",
            "Epoch 5/10\n",
            "\u001b[1m113/113\u001b[0m \u001b[32m━━━━━━━━━━━━━━━━━━━━\u001b[0m\u001b[37m\u001b[0m \u001b[1m4s\u001b[0m 33ms/step - accuracy: 0.7837 - loss: 0.5014 - val_accuracy: 0.6888 - val_loss: 0.9522\n",
            "Epoch 6/10\n",
            "\u001b[1m113/113\u001b[0m \u001b[32m━━━━━━━━━━━━━━━━━━━━\u001b[0m\u001b[37m\u001b[0m \u001b[1m5s\u001b[0m 46ms/step - accuracy: 0.8855 - loss: 0.3282 - val_accuracy: 0.7579 - val_loss: 0.7945\n",
            "Epoch 7/10\n",
            "\u001b[1m113/113\u001b[0m \u001b[32m━━━━━━━━━━━━━━━━━━━━\u001b[0m\u001b[37m\u001b[0m \u001b[1m8s\u001b[0m 30ms/step - accuracy: 0.9193 - loss: 0.2464 - val_accuracy: 0.7061 - val_loss: 0.9785\n",
            "Epoch 8/10\n",
            "\u001b[1m113/113\u001b[0m \u001b[32m━━━━━━━━━━━━━━━━━━━━\u001b[0m\u001b[37m\u001b[0m \u001b[1m6s\u001b[0m 35ms/step - accuracy: 0.9532 - loss: 0.1674 - val_accuracy: 0.7176 - val_loss: 1.1013\n",
            "Epoch 9/10\n",
            "\u001b[1m113/113\u001b[0m \u001b[32m━━━━━━━━━━━━━━━━━━━━\u001b[0m\u001b[37m\u001b[0m \u001b[1m3s\u001b[0m 31ms/step - accuracy: 0.9574 - loss: 0.1340 - val_accuracy: 0.7320 - val_loss: 1.0740\n",
            "Epoch 10/10\n",
            "\u001b[1m113/113\u001b[0m \u001b[32m━━━━━━━━━━━━━━━━━━━━\u001b[0m\u001b[37m\u001b[0m \u001b[1m6s\u001b[0m 40ms/step - accuracy: 0.9663 - loss: 0.1159 - val_accuracy: 0.7723 - val_loss: 0.9284\n",
            "Final Training Accuracy: 0.9665\n",
            "Final Validation Accuracy: 0.7723\n"
          ]
        }
      ],
      "source": [
        "# Train Model 3\n",
        "history_3 = model_3.fit(train_padded, train_labels, validation_data=(validation_padded, validation_labels_encoded), batch_size=batch_size, epochs=epochs, verbose=1)\n",
        "\n",
        "# Access the training history from the correct variable 'history_1'\n",
        "final_training_accuracy = history_3.history['accuracy'][-1]  # Access training accuracy\n",
        "print(f\"Final Training Accuracy: {final_training_accuracy:.4f}\")\n",
        "\n",
        "# Use 'val_accuracy' instead of 'validation_accuracy' for validation accuracy\n",
        "final_validation_accuracy = history_3.history['val_accuracy'][-1]  # Access validation accuracy\n",
        "print(f\"Final Validation Accuracy: {final_validation_accuracy:.4f}\")"
      ]
    },
    {
      "cell_type": "markdown",
      "metadata": {
        "id": "1moO53iwwD7z"
      },
      "source": [
        "### Comparing Models"
      ]
    },
    {
      "cell_type": "markdown",
      "metadata": {
        "id": "yMwlShh2wakH"
      },
      "source": [
        "### Training and Validation Accuracy & Confusion Matrix for Each Model"
      ]
    },
    {
      "cell_type": "code",
      "execution_count": 77,
      "metadata": {
        "id": "Z7po9QNNwZgr"
      },
      "outputs": [],
      "source": [
        "\n",
        "# Function to plot training/validation accuracy and confusion matrix\n",
        "def plot_results(model, history, val_padded, val_labels, model_name):\n",
        "    # Step 1: Get final training and validation accuracy\n",
        "    final_train_acc = history.history['accuracy'][-1]\n",
        "    final_val_acc = history.history['val_accuracy'][-1]\n",
        "\n",
        "    # Step 2: Make predictions on the validation data\n",
        "    val_predictions = model.predict(val_padded)\n",
        "    val_predicted_labels = val_predictions.argmax(axis=1)\n",
        "\n",
        "    # Step 3: Calculate confusion matrix\n",
        "    conf_matrix = confusion_matrix(val_labels, val_predicted_labels)\n",
        "\n",
        "    # Plot training and validation accuracy\n",
        "    plt.figure(figsize=(12, 6))\n",
        "    plt.plot(history.history['accuracy'], label='Training Accuracy')\n",
        "    plt.plot(history.history['val_accuracy'], label='Validation Accuracy')\n",
        "    plt.title(f'{model_name} - Training and Validation Accuracy')\n",
        "    plt.xlabel('Epochs')\n",
        "    plt.ylabel('Accuracy')\n",
        "    plt.legend()\n",
        "    plt.grid()\n",
        "    plt.show()\n",
        "\n",
        "    # Plot confusion matrix\n",
        "    plt.figure(figsize=(8, 6))\n",
        "    sns.heatmap(conf_matrix, annot=True, fmt='d', cmap='Blues',\n",
        "                xticklabels=range(output_classes), yticklabels=range(output_classes))\n",
        "    plt.title(f'{model_name} - Validation Confusion Matrix')\n",
        "    plt.xlabel('Predicted Labels')\n",
        "    plt.ylabel('True Labels')\n",
        "    plt.show()\n",
        "\n",
        "    # Return accuracies for reporting\n",
        "    return final_train_acc, final_val_acc"
      ]
    },
    {
      "cell_type": "code",
      "execution_count": 78,
      "metadata": {
        "colab": {
          "base_uri": "https://localhost:8080/",
          "height": 1000
        },
        "id": "CdKv4w7xxAIe",
        "outputId": "9c8b36bf-d061-47b3-caca-de22da205e18"
      },
      "outputs": [
        {
          "output_type": "stream",
          "name": "stdout",
          "text": [
            "\u001b[1m11/11\u001b[0m \u001b[32m━━━━━━━━━━━━━━━━━━━━\u001b[0m\u001b[37m\u001b[0m \u001b[1m1s\u001b[0m 33ms/step\n"
          ]
        },
        {
          "output_type": "display_data",
          "data": {
            "text/plain": [
              "<Figure size 1200x600 with 1 Axes>"
            ],
            "image/png": "[encoded data removed]"
          },
          "metadata": {}
        },
        {
          "output_type": "display_data",
          "data": {
            "text/plain": [
              "<Figure size 800x600 with 2 Axes>"
            ],
            "image/png": "[encoded data removed]"
          },
          "metadata": {}
        },
        {
          "output_type": "stream",
          "name": "stdout",
          "text": [
            "\u001b[1m11/11\u001b[0m \u001b[32m━━━━━━━━━━━━━━━━━━━━\u001b[0m\u001b[37m\u001b[0m \u001b[1m1s\u001b[0m 52ms/step\n"
          ]
        },
        {
          "output_type": "display_data",
          "data": {
            "text/plain": [
              "<Figure size 1200x600 with 1 Axes>"
            ],
            "image/png": "[encoded data removed]"
          },
          "metadata": {}
        },
        {
          "output_type": "display_data",
          "data": {
            "text/plain": [
              "<Figure size 800x600 with 2 Axes>"
            ],
            "image/png": "[encoded data removed]"
          },
          "metadata": {}
        },
        {
          "output_type": "stream",
          "name": "stdout",
          "text": [
            "\u001b[1m11/11\u001b[0m \u001b[32m━━━━━━━━━━━━━━━━━━━━\u001b[0m\u001b[37m\u001b[0m \u001b[1m1s\u001b[0m 44ms/step\n"
          ]
        },
        {
          "output_type": "display_data",
          "data": {
            "text/plain": [
              "<Figure size 1200x600 with 1 Axes>"
            ],
            "image/png": "[encoded data removed]"
          },
          "metadata": {}
        },
        {
          "output_type": "display_data",
          "data": {
            "text/plain": [
              "<Figure size 800x600 with 2 Axes>"
            ],
            "image/png": "[encoded data removed]"
          },
          "metadata": {}
        }
      ],
      "source": [
        "# Training and evaluating Model 1\n",
        "final_train_acc_1, final_val_acc_1 = plot_results(model_1, history_1, validation_padded, validation_labels_encoded, 'Model 1 (LSTM)')\n",
        "\n",
        "# Training and evaluating Model 2\n",
        "final_train_acc_2, final_val_acc_2 = plot_results(model_2, history_2, validation_padded, validation_labels_encoded, 'Model 2 (Bidirectional LSTM)')\n",
        "\n",
        "# Training and evaluating Model 3\n",
        "final_train_acc_3, final_val_acc_3 = plot_results(model_3, history_3, validation_padded, validation_labels_encoded, 'Model 3 (GRU)')"
      ]
    },
    {
      "cell_type": "markdown",
      "metadata": {
        "id": "_R7ZPhXNxKCk"
      },
      "source": [
        "### Discussion on Model Performance\n",
        "\n",
        "**_Let's analyze the performance of each model based on training and validation accuracy, as well as the confusion matrix. We'll compare Model 1 (LSTM), Model 2 (Bidirectional LSTM), and Model 3 (GRU), focusing on their relative strengths and weaknesses._**"
      ]
    },
    {
      "cell_type": "markdown",
      "metadata": {
        "id": "pRF47oKK3-ix"
      },
      "source": [
        "## Model Comparison\n",
        "\n",
        "**Model 1:**\n",
        "\n",
        "**_Simple LSTM Training Accuracy: `0.9718`\tValidation Accuracy: `0.7147`_**\n",
        "\n",
        "**Confusion Matrix:**\n",
        "\n",
        "**_This model show confusion between certain classes, especially when there are more complex contextual dependencies within the tweets._**\n",
        "\n",
        "**Strength:** **_Good for sequential data, captures long-term dependencies_**\n",
        "\n",
        "**Weakness:** **_Potential overfitting if not regularized_**\n",
        "\n",
        "**Model 2:**\n",
        "\n",
        "**_Bidirectional LSTM\tTraining Accuracy: `0.9773` Validation Accuracy: `0.8069`_**\n",
        "\n",
        "**Confusion Matrix:**\n",
        "\n",
        "**_The bidirectional nature should help in better capturing the context from both directions, potentially reducing misclassifications compared to the simple LSTM._**\n",
        "\n",
        "**Strength:** **_Captures context in both directions, better handling of complex sequences_**\n",
        "\n",
        "**Weakness** **_Computationally more expensive_**\n",
        "\n",
        "**Model 3:**\n",
        "\n",
        "**_GRU\tTraining Accuracy: `0.9665` Validation Accuracy: `0.7723`_**\n",
        "\n",
        "**Confusion Matrix:**\n",
        "\n",
        "**_The GRU model might show slightly different misclassification patterns compared to LSTM, potentially indicating more efficient learning of certain relationships._**\n",
        "\n",
        "**Strength** **_Faster training, efficient, and works well for many tasks_**\n",
        "\n",
        "**Weakness**\t**_May not perform as well as LSTM on complex data_**\n",
        "\n",
        "## Best Model Selection\n",
        "\n",
        "**_Based on validation accuracy, confusion matrix, and overall training behavior, I recommend Model 2 (Bidirectional LSTM) as the best model for this task. Here’s why:_**\n",
        "\n",
        "**Higher validation accuracy:**\n",
        "\n",
        "**_Model 2 consistently has the highest validation accuracy, it shows better generalization and is less likely to overfit compared to the simpler LSTM or GRU._**\n",
        "\n",
        "**Improved handling of context:**\n",
        "\n",
        "**_The bidirectional nature of the LSTM allows the model to learn both past and future context in a tweet, which is crucial for sentiment and emotion analysis._**\n",
        "\n",
        "**Better confusion matrix performance:**\n",
        "\n",
        "**_The confusion matrix shows fewer misclassifications, it indicates that the model is more precise and reliable in its predictions._**\n",
        "\n",
        "## Conclusion:\n",
        "\n",
        "**_Model 2 (Bidirectional LSTM) is the most robust model based on its ability to capture rich context from both directions, providing a more accurate and reliable prediction of the emotions behind tweets._**"
      ]
    },
    {
      "cell_type": "markdown",
      "metadata": {
        "id": "gFo5YcTqI0t7"
      },
      "source": [
        "### Predictions on the Testing Data and Calculate the Testing Accuracy"
      ]
    },
    {
      "cell_type": "code",
      "execution_count": 79,
      "metadata": {
        "colab": {
          "base_uri": "https://localhost:8080/"
        },
        "id": "8P8e9IVpxI-k",
        "outputId": "e4dec655-9d16-493c-ae7a-c93f17d1e79a"
      },
      "outputs": [
        {
          "output_type": "stream",
          "name": "stdout",
          "text": [
            "\u001b[1m99/99\u001b[0m \u001b[32m━━━━━━━━━━━━━━━━━━━━\u001b[0m\u001b[37m\u001b[0m \u001b[1m2s\u001b[0m 17ms/step\n"
          ]
        }
      ],
      "source": [
        "# Make predictions on the test data\n",
        "test_predictions = model_2.predict(test_padded)  # Replace 'model_2' with your best model if different\n",
        "test_predicted_labels = test_predictions.argmax(axis=1)"
      ]
    },
    {
      "cell_type": "code",
      "execution_count": 80,
      "metadata": {
        "colab": {
          "base_uri": "https://localhost:8080/"
        },
        "id": "FByEu_n4Jfej",
        "outputId": "a03ecf9c-f20a-43e2-880e-9f115c446349"
      },
      "outputs": [
        {
          "output_type": "stream",
          "name": "stdout",
          "text": [
            "\u001b[1m99/99\u001b[0m \u001b[32m━━━━━━━━━━━━━━━━━━━━\u001b[0m\u001b[37m\u001b[0m \u001b[1m4s\u001b[0m 37ms/step - accuracy: 0.7996 - loss: 0.7905\n",
            "Test Accuracy: 75.8752%\n"
          ]
        }
      ],
      "source": [
        "# Calculate the testing accuracy\n",
        "test_accuracy = model_2.evaluate(test_padded, test_labels_encoded)[1]\n",
        "print(f'Test Accuracy: {test_accuracy * 100:.4f}%')"
      ]
    },
    {
      "cell_type": "code",
      "execution_count": 81,
      "metadata": {
        "id": "8YH6jiVJKWxj"
      },
      "outputs": [],
      "source": [
        "# Create a mapping from string labels to numerical labels\n",
        "unique_labels = np.unique(test_labels)\n",
        "label_mapping = {label: i for i, label in enumerate(unique_labels)}\n",
        "\n",
        "# Convert 'test_labels' to numerical labels using the mapping\n",
        "test_labels_numeric = np.array([label_mapping[label] for label in test_labels])\n",
        "\n",
        "# Calculate the confusion matrix using the numerical labels\n",
        "conf_matrix_test = confusion_matrix(test_labels_numeric, test_predicted_labels)"
      ]
    },
    {
      "cell_type": "code",
      "execution_count": 82,
      "metadata": {
        "colab": {
          "base_uri": "https://localhost:8080/",
          "height": 564
        },
        "id": "KYi6mPclJj-Q",
        "outputId": "58aa772d-6793-4dee-f775-6bd852df7164"
      },
      "outputs": [
        {
          "output_type": "display_data",
          "data": {
            "text/plain": [
              "<Figure size 800x600 with 2 Axes>"
            ],
            "image/png": "[encoded data removed]"
          },
          "metadata": {}
        }
      ],
      "source": [
        "# Plot the confusion matrix for the test data\n",
        "plt.figure(figsize=(8, 6))\n",
        "sns.heatmap(conf_matrix_test, annot=True, fmt='d', cmap='Blues',\n",
        "            xticklabels=range(output_classes), yticklabels=range(output_classes))\n",
        "plt.title('Confusion Matrix for Test Data')\n",
        "plt.xlabel('Predicted Labels')\n",
        "plt.ylabel('True Labels')\n",
        "plt.show()"
      ]
    },
    {
      "cell_type": "markdown",
      "source": [
        "## Model Evaluation\n",
        "\n",
        "**Performance Overview**\n",
        "\n",
        "_The Bidirectional LSTM model was evaluated on test data, achieving a test accuracy of `75.8752%`, indicating reliable classification of tweet emotions._\n",
        "\n",
        "**The key Insights**\n",
        "\n",
        "**_Accuracy Interpretation:_**\n",
        "\n",
        "_A test accuracy above 80% suggests effective learning and generalization.\n",
        "However, accuracy may not fully reflect performance in cases of class imbalance._\n",
        "\n",
        "\n",
        "**_Confusion Matrix Analysis:_**\n",
        "\n",
        "_Correct predictions (diagonal elements) dominate, but off-diagonal misclassifications highlight specific challenges._\n",
        "\n",
        "_Frequent misclassification of certain emotions suggests the need for better class representation or model tuning._\n",
        "\n",
        "\n",
        "**_Model Shortcomings:_**\n",
        "\n",
        "_Class Imbalance: Underrepresented categories (e.g., \"anger\" or \"sadness\") may result in lower recall for those emotions._\n",
        "\n",
        "_Overfitting: A risk if training accuracy significantly exceeds test accuracy._\n",
        "\n",
        "_Noisy Data: Tweets with informal language or abbreviations challenge the model._\n",
        "\n",
        "_Contextual Ambiguity: Short, implicit, or sarcastic tweets are harder to classify accurately._\n",
        "\n",
        "**Future Improvements**\n",
        "\n",
        "_Hyperparameter Tuning: Optimize embedding sizes, LSTM units, and dropout rates to reduce overfitting._\n",
        "\n",
        "\n",
        "**Conclusion**\n",
        "The model demonstrates strong potential, achieving 75.8752% accuracy in emotion classification. However, addressing class imbalance, noisy inputs, and context ambiguity can further enhance its robustness and performance across diverse tweets."
      ],
      "metadata": {
        "id": "gVFE-vG067HM"
      }
    },
    {
      "cell_type": "code",
      "execution_count": null,
      "metadata": {
        "id": "jGXt5ZJAJxTr"
      },
      "outputs": [],
      "source": []
    }
  ],
  "metadata": {
    "colab": {
      "provenance": []
    },
    "kernelspec": {
      "display_name": "Python 3",
      "name": "python3"
    },
    "language_info": {
      "name": "python"
    }
  },
  "nbformat": 4,
  "nbformat_minor": 0
}